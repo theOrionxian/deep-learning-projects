{
 "cells": [
  {
   "cell_type": "code",
   "execution_count": 1,
   "metadata": {},
   "outputs": [],
   "source": [
    "import numpy as np\n",
    "import pandas as pd\n",
    "import tensorflow as tf\n",
    "from tensorflow import keras\n",
    "from keras.models import Sequential, Model\n",
    "from keras import layers, callbacks\n",
    "from keras.layers import Dense, Flatten, MaxPooling2D, Conv2D, Resizing, BatchNormalization, Lambda, Activation \\\n",
    "    ,Resizing, Rescaling, Dropout, InputLayer, GlobalAveragePooling2D\n",
    "from keras.preprocessing.image import ImageDataGenerator\n",
    "from keras.utils import image_dataset_from_directory\n",
    "import os\n",
    "import glob\n",
    "import random\n",
    "import shutil\n",
    "import matplotlib.pyplot as plt"
   ]
  },
  {
   "cell_type": "code",
   "execution_count": 2,
   "metadata": {},
   "outputs": [],
   "source": [
    "IMAGES_DIR = os.path.join(\".\", \"images_labeled\")"
   ]
  },
  {
   "cell_type": "code",
   "execution_count": 3,
   "metadata": {},
   "outputs": [
    {
     "data": {
      "text/plain": [
       "MEL      1113.0\n",
       "NV       6705.0\n",
       "BCC       514.0\n",
       "AKIEC     327.0\n",
       "BKL      1099.0\n",
       "DF        115.0\n",
       "VASC      142.0\n",
       "dtype: float64"
      ]
     },
     "execution_count": 3,
     "metadata": {},
     "output_type": "execute_result"
    }
   ],
   "source": [
    "ground_truth = pd.read_csv(\"./GroundTruth.csv\")\n",
    "ground_truth.iloc[:, 1:].sum()"
   ]
  },
  {
   "cell_type": "code",
   "execution_count": 4,
   "metadata": {},
   "outputs": [
    {
     "name": "stdout",
     "output_type": "stream",
     "text": [
      "[0, 1, 2, 3, 4, 5, 6, 7, 8, 9]\n"
     ]
    }
   ],
   "source": [
    "import random\n",
    "p = [x for x in range(10)]\n",
    "q = random.sample(p, 3)\n",
    "print(p)"
   ]
  },
  {
   "cell_type": "code",
   "execution_count": 5,
   "metadata": {},
   "outputs": [],
   "source": [
    "os.chdir(IMAGES_DIR)\n",
    "if os.path.isdir(\"train\") is False:\n",
    "    os.mkdir(\"train\")\n",
    "    os.mkdir(\"valid\")\n",
    "    os.mkdir(\"test\")\n",
    "    \n",
    "    for col in ground_truth.iloc[:, 1:].columns:\n",
    "        print(col)\n",
    "        os.chdir(col)\n",
    "        n_img = ground_truth.iloc[:, 1:].sum()[col]\n",
    "        test_size = int(np.ceil(n_img * .1))\n",
    "        train_val_size = int(np.floor(n_img * .9))\n",
    "        train_size = int(np.ceil(train_val_size * .8))\n",
    "        val_size = int(train_val_size - train_size)\n",
    "\n",
    "        os.mkdir(os.path.join(\"..\", \"train\", col))\n",
    "        os.mkdir(os.path.join(\"..\", \"valid\", col))\n",
    "        os.mkdir(os.path.join(\"..\", \"test\", col))\n",
    "\n",
    "        idx = np.arange(n_img, dtype=np.int32)\n",
    "        np.random.shuffle(idx)\n",
    "\n",
    "        train_file = np.array(glob.glob(col+'*'))[idx[:train_size]]\n",
    "        val_file = np.array(glob.glob(col+'*'))[idx[train_size:train_val_size]]\n",
    "        test_file = np.array(glob.glob(col+'*'))[idx[-test_size:]]\n",
    "\n",
    "        for img in train_file:\n",
    "            shutil.move(img, os.path.join(\"..\", \"train\", col))\n",
    "        for img in val_file:\n",
    "            shutil.move(img, os.path.join(\"..\", \"valid\", col))\n",
    "        for img in test_file:\n",
    "            shutil.move(img, os.path.join(\"..\", \"test\", col))\n",
    "\n",
    "        os.chdir(\"..\")\n",
    "os.chdir(\"..\")\n"
   ]
  },
  {
   "cell_type": "code",
   "execution_count": 6,
   "metadata": {},
   "outputs": [],
   "source": [
    "TRAIN_PATH = os.path.join(IMAGES_DIR, \"train\")\n",
    "VAL_PATH = os.path.join(IMAGES_DIR, \"valid\")\n",
    "TEST_PATH = os.path.join(IMAGES_DIR, \"test\")"
   ]
  },
  {
   "cell_type": "code",
   "execution_count": 7,
   "metadata": {},
   "outputs": [
    {
     "data": {
      "text/plain": [
       "['MEL', 'NV', 'BCC', 'AKIEC', 'BKL', 'DF', 'VASC']"
      ]
     },
     "execution_count": 7,
     "metadata": {},
     "output_type": "execute_result"
    }
   ],
   "source": [
    "CLASSES = list(ground_truth.iloc[:, 1:].columns)\n",
    "CLASSES"
   ]
  },
  {
   "cell_type": "code",
   "execution_count": 8,
   "metadata": {},
   "outputs": [
    {
     "name": "stdout",
     "output_type": "stream",
     "text": [
      "Found 7212 files belonging to 7 classes.\n",
      "Found 1798 files belonging to 7 classes.\n"
     ]
    }
   ],
   "source": [
    "train_ds = image_dataset_from_directory(\n",
    "    TRAIN_PATH,\n",
    "    label_mode='categorical',\n",
    "    batch_size=32,\n",
    "    image_size=(224,224)\n",
    ")\n",
    "\n",
    "val_ds = image_dataset_from_directory(\n",
    "    VAL_PATH,\n",
    "    label_mode='categorical',\n",
    "    batch_size=32,\n",
    "    image_size=(224,224)\n",
    ")"
   ]
  },
  {
   "cell_type": "code",
   "execution_count": 9,
   "metadata": {},
   "outputs": [
    {
     "data": {
      "text/plain": [
       "['AKIEC', 'BCC', 'BKL', 'DF', 'MEL', 'NV', 'VASC']"
      ]
     },
     "execution_count": 9,
     "metadata": {},
     "output_type": "execute_result"
    }
   ],
   "source": [
    "train_ds.class_names"
   ]
  },
  {
   "cell_type": "code",
   "execution_count": 10,
   "metadata": {},
   "outputs": [
    {
     "data": {
      "text/plain": [
       "{0: 4.375273044997815,\n",
       " 1: 2.78349082823791,\n",
       " 2: 1.301832835044846,\n",
       " 3: 12.440993788819876,\n",
       " 4: 1.2854575792581184,\n",
       " 5: 0.21338020666879728,\n",
       " 6: 10.075452716297788}"
      ]
     },
     "execution_count": 10,
     "metadata": {},
     "output_type": "execute_result"
    }
   ],
   "source": [
    "total_img = len(ground_truth)\n",
    "cl_weight = {}\n",
    "for i, cl in enumerate(train_ds.class_names):\n",
    "    cl_weight[i] = total_img / (ground_truth.iloc[:, 1:].sum()[cl] * 7)\n",
    "cl_weight\n"
   ]
  },
  {
   "cell_type": "code",
   "execution_count": 11,
   "metadata": {},
   "outputs": [],
   "source": [
    "from functools import partial\n",
    "\n",
    "Conv2D3Kernel = partial(Conv2D, kernel_size=3, strides=1, padding='same', use_bias=False)"
   ]
  },
  {
   "cell_type": "code",
   "execution_count": 12,
   "metadata": {},
   "outputs": [],
   "source": [
    "def ResBlock(inputs, filters, strides=1):\n",
    "    input_main = Conv2D3Kernel(filters, strides=strides)(inputs)\n",
    "    input_main = BatchNormalization()(input_main)\n",
    "    input_main = Activation(activation=keras.activations.relu)(input_main)\n",
    "    input_main = Conv2D3Kernel(filters)(input_main)\n",
    "    input_main = BatchNormalization()(input_main)\n",
    "\n",
    "    input_skip = inputs\n",
    "    if strides > 1:\n",
    "        input_skip = Conv2D3Kernel(filters, kernel_size=1, strides=strides)(input_skip)\n",
    "        input_skip = BatchNormalization()(input_skip)\n",
    "    return Activation(activation=keras.activations.relu)(input_main + input_skip)\n",
    "    "
   ]
  },
  {
   "cell_type": "code",
   "execution_count": 13,
   "metadata": {},
   "outputs": [],
   "source": [
    "def DoubleResBlock(inputs, filters, strides=1):\n",
    "    input_main = Conv2D3Kernel(filters, strides=strides)(inputs)\n",
    "    input_main = BatchNormalization()(input_main)\n",
    "    input_main = Activation(activation=keras.activations.relu)(input_main)\n",
    "    input_main = Conv2D3Kernel(filters)(input_main)\n",
    "    input_main = BatchNormalization()(input_main)\n",
    "\n",
    "    input_main_2 = Conv2D3Kernel(filters, strides=strides)(inputs)\n",
    "    input_main_2 = BatchNormalization()(input_main)\n",
    "    input_main_2 = Activation(activation=keras.activations.relu)(input_main)\n",
    "    input_main_2 = Conv2D3Kernel(filters)(input_main)\n",
    "    input_main_2 = BatchNormalization()(input_main)\n",
    "\n",
    "    input_skip = inputs\n",
    "    if strides > 1:\n",
    "        input_skip = Conv2D3Kernel(filters, kernel_size=1, strides=strides)(input_skip)\n",
    "        input_skip = BatchNormalization()(input_skip)\n",
    "    return Activation(activation=keras.activations.relu)(input_main + input_main_2 + input_skip)\n",
    "\n",
    "def ResNextBlock(inputs, filters, strides=1):\n",
    "    input_main = []\n",
    "    for i in range(8):\n",
    "        temp_main = Conv2D3Kernel(14, kernel_size=1)(inputs)\n",
    "        temp_main = BatchNormalization()(temp_main)\n",
    "        temp_main = Conv2D3Kernel(14, strides=strides)(temp_main)\n",
    "        temp_main = BatchNormalization()(temp_main)\n",
    "        temp_main = Activation(activation=keras.activations.relu)(temp_main)\n",
    "        temp_main = Conv2D3Kernel(filters, kernel_size=1)(temp_main)\n",
    "        temp_main = BatchNormalization()(temp_main)\n",
    "        input_main.append(temp_main)\n",
    "    \n",
    "    total_main = input_main[0]\n",
    "    for item in input_main[1:]:\n",
    "        total_main = total_main + item\n",
    "    \n",
    "    input_skip = inputs\n",
    "    if strides > 1:\n",
    "        input_skip = Conv2D3Kernel(filters, kernel_size=1, strides=strides)(input_skip)\n",
    "        input_skip = BatchNormalization()(input_skip)\n",
    "    return Activation(activation=keras.activations.relu)(total_main + input_skip)"
   ]
  },
  {
   "cell_type": "code",
   "execution_count": 14,
   "metadata": {},
   "outputs": [],
   "source": [
    "def SeResBlock(inputs, filters, strides=1):\n",
    "    input_main = Conv2D3Kernel(filters, strides=strides)(inputs)\n",
    "    input_main = BatchNormalization()(input_main)\n",
    "    input_main = Activation(activation=keras.activations.relu)(input_main)\n",
    "    input_main = Conv2D3Kernel(filters)(input_main)\n",
    "    input_main = BatchNormalization()(input_main)\n",
    "\n",
    "    scaling = GlobalAveragePooling2D()(input_main)\n",
    "    scaling = Dense(filters/2, activation=\"relu\", kernel_initializer=\"he_normal\")(scaling)\n",
    "    scaling = BatchNormalization()(scaling)\n",
    "    scaling = Dense(filters, activation=\"sigmoid\")(scaling)\n",
    "\n",
    "    input_main = layers.Multiply()([input_main, scaling])\n",
    "\n",
    "    input_skip = inputs\n",
    "    if strides > 1:\n",
    "        input_skip = Conv2D3Kernel(filters, kernel_size=1, strides=strides)(input_skip)\n",
    "        input_skip = BatchNormalization()(input_skip)\n",
    "    return Activation(activation=keras.activations.relu)(input_main + input_skip)\n",
    "\n",
    "def SeResNextBlock(inputs, filters, strides=1):\n",
    "    input_main = []\n",
    "    for i in range(8):\n",
    "        temp_main = Conv2D3Kernel(12, kernel_size=1)(inputs)\n",
    "        temp_main = BatchNormalization()(temp_main)\n",
    "        temp_main = Conv2D3Kernel(12, strides=strides)(temp_main)\n",
    "        temp_main = BatchNormalization()(temp_main)\n",
    "        temp_main = Activation(activation=keras.activations.relu)(temp_main)\n",
    "        temp_main = Conv2D3Kernel(filters, kernel_size=1)(temp_main)\n",
    "        temp_main = BatchNormalization()(temp_main)\n",
    "        input_main.append(temp_main)\n",
    "    \n",
    "    total_main = input_main[0]\n",
    "    for item in input_main[1:]:\n",
    "        total_main = total_main + item\n",
    "\n",
    "    scaling = GlobalAveragePooling2D()(total_main)\n",
    "    scaling = Dense(filters/4, activation=\"relu\", kernel_initializer=\"he_normal\")(scaling)\n",
    "    scaling = BatchNormalization()(scaling)\n",
    "    scaling = Dense(filters, activation=\"sigmoid\")(scaling)\n",
    "\n",
    "    total_main = layers.Multiply()([total_main, scaling])\n",
    "    \n",
    "    input_skip = inputs\n",
    "    if strides > 1:\n",
    "        input_skip = Conv2D3Kernel(filters, kernel_size=1, strides=strides)(input_skip)\n",
    "        input_skip = BatchNormalization()(input_skip)\n",
    "    return Activation(activation=keras.activations.relu)(total_main + input_skip)"
   ]
  },
  {
   "cell_type": "code",
   "execution_count": 15,
   "metadata": {},
   "outputs": [],
   "source": [
    "def InvBottleResBlock(inputs, filters, strides=1, ex_r=6):\n",
    "    input_main = Conv2D3Kernel(filters*ex_r, kernel_size=1, strides=strides)(inputs)\n",
    "    input_main = BatchNormalization()(input_main)\n",
    "    input_main = Activation(activation=keras.activations.relu)(input_main)\n",
    "    input_main = layers.DepthwiseConv2D(kernel_size=3, padding=\"same\", use_bias=False)(input_main)\n",
    "    input_main = BatchNormalization()(input_main)\n",
    "    input_main = Activation(activation=keras.activations.relu)(input_main)\n",
    "    input_main = Conv2D3Kernel(filters, kernel_size=1)(input_main)\n",
    "\n",
    "    input_skip = inputs\n",
    "    if strides > 1:\n",
    "        input_skip = Conv2D3Kernel(filters, kernel_size=1, strides=strides)(input_skip)\n",
    "        input_skip = BatchNormalization()(input_skip)\n",
    "    elif inputs.shape[3] != filters:\n",
    "        input_skip = Conv2D3Kernel(filters, kernel_size=1, strides=strides)(input_skip)\n",
    "        input_skip = BatchNormalization()(input_skip)\n",
    "    return input_main + input_skip"
   ]
  },
  {
   "cell_type": "code",
   "execution_count": 16,
   "metadata": {},
   "outputs": [
    {
     "name": "stdout",
     "output_type": "stream",
     "text": [
      "WARNING:tensorflow:Using a while_loop for converting RngReadAndSkip cause there is no registered converter for this op.\n",
      "WARNING:tensorflow:Using a while_loop for converting Bitcast cause there is no registered converter for this op.\n",
      "WARNING:tensorflow:Using a while_loop for converting Bitcast cause there is no registered converter for this op.\n",
      "WARNING:tensorflow:Using a while_loop for converting StatelessRandomUniformV2 cause there is no registered converter for this op.\n",
      "WARNING:tensorflow:Using a while_loop for converting ImageProjectiveTransformV3 cause there is no registered converter for this op.\n",
      "WARNING:tensorflow:Using a while_loop for converting RngReadAndSkip cause there is no registered converter for this op.\n",
      "WARNING:tensorflow:Using a while_loop for converting Bitcast cause there is no registered converter for this op.\n",
      "WARNING:tensorflow:Using a while_loop for converting Bitcast cause there is no registered converter for this op.\n",
      "WARNING:tensorflow:Using a while_loop for converting StatelessRandomUniformV2 cause there is no registered converter for this op.\n",
      "WARNING:tensorflow:Using a while_loop for converting ImageProjectiveTransformV3 cause there is no registered converter for this op.\n"
     ]
    }
   ],
   "source": [
    "data_augmentation = tf.keras.Sequential([\n",
    "  layers.Input(shape=(224,224,3)),\n",
    "  Lambda(lambda x : tf.image.random_flip_left_right(x)),\n",
    "  Lambda(lambda x : tf.image.random_flip_up_down(x)),\n",
    "  Lambda(lambda x : tf.image.random_brightness(x, 0.1)),\n",
    "  Lambda(lambda x : tf.image.random_contrast(x, 0, 0.1)),\n",
    "  layers.RandomRotation(0.2),\n",
    "  layers.RandomZoom(0.15),\n",
    "])"
   ]
  },
  {
   "cell_type": "code",
   "execution_count": 17,
   "metadata": {},
   "outputs": [
    {
     "name": "stdout",
     "output_type": "stream",
     "text": [
      "WARNING:tensorflow:Using a while_loop for converting RngReadAndSkip cause there is no registered converter for this op.\n",
      "WARNING:tensorflow:Using a while_loop for converting Bitcast cause there is no registered converter for this op.\n",
      "WARNING:tensorflow:Using a while_loop for converting Bitcast cause there is no registered converter for this op.\n",
      "WARNING:tensorflow:Using a while_loop for converting StatelessRandomUniformV2 cause there is no registered converter for this op.\n",
      "WARNING:tensorflow:Using a while_loop for converting ImageProjectiveTransformV3 cause there is no registered converter for this op.\n",
      "WARNING:tensorflow:Using a while_loop for converting RngReadAndSkip cause there is no registered converter for this op.\n",
      "WARNING:tensorflow:Using a while_loop for converting Bitcast cause there is no registered converter for this op.\n",
      "WARNING:tensorflow:Using a while_loop for converting Bitcast cause there is no registered converter for this op.\n",
      "WARNING:tensorflow:Using a while_loop for converting StatelessRandomUniformV2 cause there is no registered converter for this op.\n",
      "WARNING:tensorflow:Using a while_loop for converting ImageProjectiveTransformV3 cause there is no registered converter for this op.\n"
     ]
    }
   ],
   "source": [
    "aug_ds = train_ds.map(\n",
    "  lambda x, y: (data_augmentation(x, training=True), y))"
   ]
  },
  {
   "cell_type": "code",
   "execution_count": 18,
   "metadata": {},
   "outputs": [
    {
     "data": {
      "text/plain": [
       "<tf.Tensor: shape=(3,), dtype=float32, numpy=array([ 9.999999e-01,  9.999999e-01, -1.000000e-07], dtype=float32)>"
      ]
     },
     "execution_count": 18,
     "metadata": {},
     "output_type": "execute_result"
    }
   ],
   "source": [
    "t = tf.constant([1,1,0], tf.float32)\n",
    "t - 1e-7"
   ]
  },
  {
   "cell_type": "code",
   "execution_count": 19,
   "metadata": {},
   "outputs": [],
   "source": [
    "class OrionLoss(keras.losses.Loss):\n",
    "    def __init__(self, threshold=0.5):\n",
    "        super().__init__()\n",
    "        self.threshold = threshold\n",
    "    \n",
    "    def call(self, y_true, y_pred):\n",
    "        inv_y_true = tf.cast((y_true == 0) & (y_pred > self.threshold), tf.float32)\n",
    "        cce = tf.cast(y_true * tf.math.log(y_pred + 1e-7), tf.float32)\n",
    "        res = inv_y_true * y_pred\n",
    "        res_entropy = res * tf.math.log(1 - res - 1e-7)\n",
    "        return tf.reduce_sum(-cce-res_entropy, axis=1)"
   ]
  },
  {
   "cell_type": "code",
   "execution_count": 20,
   "metadata": {},
   "outputs": [
    {
     "data": {
      "text/plain": [
       "<tf.Tensor: shape=(2,), dtype=float32, numpy=array([2.3025842, 2.0467536], dtype=float32)>"
      ]
     },
     "execution_count": 20,
     "metadata": {},
     "output_type": "execute_result"
    }
   ],
   "source": [
    "a = np.array([[0, 1, 0], [1,0,0]])\n",
    "b = np.array([[0, .1, 0], [.3,.7,0]])\n",
    "OrionLoss().call(a,b)"
   ]
  },
  {
   "cell_type": "code",
   "execution_count": 21,
   "metadata": {},
   "outputs": [
    {
     "name": "stdout",
     "output_type": "stream",
     "text": [
      "tf.Tensor(-1.192093e-07, shape=(), dtype=float32)\n"
     ]
    }
   ],
   "source": [
    "print(tf.math.log(.9999999))"
   ]
  },
  {
   "cell_type": "code",
   "execution_count": 22,
   "metadata": {},
   "outputs": [
    {
     "data": {
      "text/plain": [
       "'input_layer = layers.Input(shape=(224,224,3))\\nrescaling = Rescaling(1./255)(input_layer)\\nconv_1 = Conv2D(filters=32, kernel_size=(7, 7), strides=2, padding=\"valid\", activation=\"relu\")(rescaling)\\nconv_1 = BatchNormalization()(conv_1)\\nmaxpool_1 = MaxPooling2D(pool_size=3)(conv_1)\\nmaxpool_1 = tf.nn.local_response_normalization(maxpool_1)\\nresb_1 = ResNextBlock(maxpool_1, 32, 2)\\nresb_1 = ResNextBlock(resb_1, 32)\\nresb_1 = ResNextBlock(resb_1, 32)\\nresb_1 = ResNextBlock(resb_1, 64, 2)\\nresb_1 = ResNextBlock(resb_1, 64)\\nresb_1 = ResNextBlock(resb_1, 64)\\n\\nglobal_aux = GlobalAveragePooling2D()(resb_1)\\nflatten_aux = Flatten()(global_aux)\\noutput_aux = Dense(7, activation=\"softmax\", name=\"aux_output\")(flatten_aux) \\n\\nresb_1 = ResNextBlock(resb_1, 96, 2)\\nresb_1 = ResNextBlock(resb_1, 96)\\nresb_1 = ResNextBlock(resb_1, 128, 2)\\nresb_1 = ResNextBlock(resb_1, 128)\\nglobal_avg = GlobalAveragePooling2D()(resb_1)\\nflatten = Flatten()(global_avg)\\noutput = Dense(7, activation=\"softmax\", name=\"output\")(flatten)\\nmodel = Model(inputs=[input_layer], outputs=[output, output_aux])\\n\\nmodel.compile(\\n    optimizer=keras.optimizers.Nadam(learning_rate=3e-3), \\n    loss=\"categorical_crossentropy\", \\n    loss_weights=[0.85, 0.15], \\n    metrics=[\\'accuracy\\']\\n    )'"
      ]
     },
     "execution_count": 22,
     "metadata": {},
     "output_type": "execute_result"
    }
   ],
   "source": [
    "'''input_layer = layers.Input(shape=(224,224,3))\n",
    "rescaling = Rescaling(1./255)(input_layer)\n",
    "conv_1 = Conv2D(filters=32, kernel_size=(7, 7), strides=2, padding=\"valid\", activation=\"relu\")(rescaling)\n",
    "conv_1 = BatchNormalization()(conv_1)\n",
    "maxpool_1 = MaxPooling2D(pool_size=3)(conv_1)\n",
    "maxpool_1 = tf.nn.local_response_normalization(maxpool_1)\n",
    "resb_1 = ResNextBlock(maxpool_1, 32, 2)\n",
    "resb_1 = ResNextBlock(resb_1, 32)\n",
    "resb_1 = ResNextBlock(resb_1, 32)\n",
    "resb_1 = ResNextBlock(resb_1, 64, 2)\n",
    "resb_1 = ResNextBlock(resb_1, 64)\n",
    "resb_1 = ResNextBlock(resb_1, 64)\n",
    "\n",
    "global_aux = GlobalAveragePooling2D()(resb_1)\n",
    "flatten_aux = Flatten()(global_aux)\n",
    "output_aux = Dense(7, activation=\"softmax\", name=\"aux_output\")(flatten_aux) \n",
    "\n",
    "resb_1 = ResNextBlock(resb_1, 96, 2)\n",
    "resb_1 = ResNextBlock(resb_1, 96)\n",
    "resb_1 = ResNextBlock(resb_1, 128, 2)\n",
    "resb_1 = ResNextBlock(resb_1, 128)\n",
    "global_avg = GlobalAveragePooling2D()(resb_1)\n",
    "flatten = Flatten()(global_avg)\n",
    "output = Dense(7, activation=\"softmax\", name=\"output\")(flatten)\n",
    "model = Model(inputs=[input_layer], outputs=[output, output_aux])\n",
    "\n",
    "model.compile(\n",
    "    optimizer=keras.optimizers.Nadam(learning_rate=3e-3), \n",
    "    loss=\"categorical_crossentropy\", \n",
    "    loss_weights=[0.85, 0.15], \n",
    "    metrics=['accuracy']\n",
    "    )'''"
   ]
  },
  {
   "cell_type": "code",
   "execution_count": 23,
   "metadata": {},
   "outputs": [
    {
     "data": {
      "text/plain": [
       "'input_layer = layers.Input(shape=(224,224,3))\\nrescaling = Rescaling(1./255)(input_layer)\\nconv_1 = Conv2D(filters=32, kernel_size=(7, 7), strides=2, padding=\"valid\", activation=\"relu\")(rescaling)\\nconv_1 = BatchNormalization()(conv_1)\\nmaxpool_1 = MaxPooling2D(pool_size=3)(conv_1)\\nmaxpool_1 = tf.nn.local_response_normalization(maxpool_1, depth_radius=2)\\nresb_1 = SeResNextBlock(maxpool_1, 32, 2)\\nresb_1 = SeResNextBlock(resb_1, 32)\\nresb_1 = SeResNextBlock(resb_1, 32)\\nresb_1 = SeResNextBlock(resb_1, 64, 2)\\nresb_1 = SeResNextBlock(resb_1, 64)\\nresb_1 = SeResNextBlock(resb_1, 64)\\n\\nglobal_aux = GlobalAveragePooling2D()(resb_1)\\nflatten_aux = Flatten()(global_aux)\\noutput_aux = Dense(7, activation=\"softmax\", name=\"aux_output\")(flatten_aux) \\nconv_skip = Conv2D(filters=128, kernel_size=1, strides=4, padding=\"same\", activation=\"relu\")(resb_1)\\nconv_skip = tf.nn.local_response_normalization(conv_skip)\\n\\nresb_1 = SeResNextBlock(resb_1, 96, 2)\\nresb_1 = SeResNextBlock(resb_1, 96)\\nresb_1 = SeResNextBlock(resb_1, 128, 2)\\nresb_1 = SeResNextBlock(resb_1, 128)\\nglobal_avg = GlobalAveragePooling2D()(resb_1 + conv_skip)\\nflatten = Flatten()(global_avg)\\n\\noutput = Dense(7, activation=\"softmax\", name=\"output\")(flatten)\\nmodel = Model(inputs=[input_layer], outputs=[output, output_aux])\\n\\nmodel.compile(\\n    optimizer=keras.optimizers.Nadam(), \\n    loss=\"categorical_crossentropy\", \\n    loss_weights=[0.85, 0.15], \\n    metrics=[\\'accuracy\\']\\n    )'"
      ]
     },
     "execution_count": 23,
     "metadata": {},
     "output_type": "execute_result"
    }
   ],
   "source": [
    "'''input_layer = layers.Input(shape=(224,224,3))\n",
    "rescaling = Rescaling(1./255)(input_layer)\n",
    "conv_1 = Conv2D(filters=32, kernel_size=(7, 7), strides=2, padding=\"valid\", activation=\"relu\")(rescaling)\n",
    "conv_1 = BatchNormalization()(conv_1)\n",
    "maxpool_1 = MaxPooling2D(pool_size=3)(conv_1)\n",
    "maxpool_1 = tf.nn.local_response_normalization(maxpool_1, depth_radius=2)\n",
    "resb_1 = SeResNextBlock(maxpool_1, 32, 2)\n",
    "resb_1 = SeResNextBlock(resb_1, 32)\n",
    "resb_1 = SeResNextBlock(resb_1, 32)\n",
    "resb_1 = SeResNextBlock(resb_1, 64, 2)\n",
    "resb_1 = SeResNextBlock(resb_1, 64)\n",
    "resb_1 = SeResNextBlock(resb_1, 64)\n",
    "\n",
    "global_aux = GlobalAveragePooling2D()(resb_1)\n",
    "flatten_aux = Flatten()(global_aux)\n",
    "output_aux = Dense(7, activation=\"softmax\", name=\"aux_output\")(flatten_aux) \n",
    "conv_skip = Conv2D(filters=128, kernel_size=1, strides=4, padding=\"same\", activation=\"relu\")(resb_1)\n",
    "conv_skip = tf.nn.local_response_normalization(conv_skip)\n",
    "\n",
    "resb_1 = SeResNextBlock(resb_1, 96, 2)\n",
    "resb_1 = SeResNextBlock(resb_1, 96)\n",
    "resb_1 = SeResNextBlock(resb_1, 128, 2)\n",
    "resb_1 = SeResNextBlock(resb_1, 128)\n",
    "global_avg = GlobalAveragePooling2D()(resb_1 + conv_skip)\n",
    "flatten = Flatten()(global_avg)\n",
    "\n",
    "output = Dense(7, activation=\"softmax\", name=\"output\")(flatten)\n",
    "model = Model(inputs=[input_layer], outputs=[output, output_aux])\n",
    "\n",
    "model.compile(\n",
    "    optimizer=keras.optimizers.Nadam(), \n",
    "    loss=\"categorical_crossentropy\", \n",
    "    loss_weights=[0.85, 0.15], \n",
    "    metrics=['accuracy']\n",
    "    )'''"
   ]
  },
  {
   "cell_type": "code",
   "execution_count": 24,
   "metadata": {},
   "outputs": [],
   "source": [
    "input_layer = layers.Input(shape=(224,224,3))\n",
    "rescaling = Rescaling(1./255)(input_layer)\n",
    "conv_1 = Conv2D(filters=32, kernel_size=(7, 7), strides=2, padding=\"valid\", activation=\"relu\")(rescaling)\n",
    "conv_1 = BatchNormalization()(conv_1)\n",
    "maxpool_1 = MaxPooling2D(pool_size=3)(conv_1)\n",
    "maxpool_1 = tf.nn.local_response_normalization(maxpool_1)\n",
    "resb_1 = SeResBlock(maxpool_1, 32)\n",
    "resb_1 = SeResBlock(resb_1, 32)\n",
    "resb_1 = SeResBlock(resb_1, 64, 2)\n",
    "resb_1 = SeResBlock(resb_1, 64)\n",
    "resb_1 = SeResBlock(resb_1, 96, 2)\n",
    "resb_1 = SeResBlock(resb_1, 96)\n",
    "resb_1 = SeResBlock(resb_1, 128, 2)\n",
    "resb_1 = SeResBlock(resb_1, 128)\n",
    "global_avg = GlobalAveragePooling2D()(resb_1)\n",
    "flatten = Flatten()(global_avg)\n",
    "output = Dense(7, activation=\"softmax\", name=\"output\")(flatten)\n",
    "model = Model(inputs=[input_layer], outputs=[output])\n",
    "\n",
    "model.compile(\n",
    "    optimizer=keras.optimizers.Nadam(), \n",
    "    loss=OrionLoss(), \n",
    "    metrics=['accuracy', keras.metrics.CategoricalCrossentropy()]\n",
    "    )"
   ]
  },
  {
   "cell_type": "code",
   "execution_count": 25,
   "metadata": {},
   "outputs": [],
   "source": [
    "input_layer = layers.Input(shape=(224,224,3))\n",
    "rescaling = Rescaling(1./255)(input_layer)\n",
    "conv_1 = Conv2D(filters=32, kernel_size=5, strides=2, activation=\"relu\", padding=\"same\")(rescaling)\n",
    "conv_1 = BatchNormalization()(conv_1)\n",
    "conv_1 = tf.nn.local_response_normalization(conv_1)\n",
    "invbot = InvBottleResBlock(conv_1, 16, ex_r=1)\n",
    "invbot = InvBottleResBlock(invbot, 24, 2)\n",
    "invbot = InvBottleResBlock(invbot, 24)\n",
    "invbot = InvBottleResBlock(invbot, 32, 2)\n",
    "invbot = InvBottleResBlock(invbot, 32)\n",
    "invbot = InvBottleResBlock(invbot, 64, 2)\n",
    "invbot = InvBottleResBlock(invbot, 64)\n",
    "invbot = InvBottleResBlock(invbot, 64)\n",
    "invbot = InvBottleResBlock(invbot, 96)\n",
    "invbot = InvBottleResBlock(invbot, 96)\n",
    "invbot = InvBottleResBlock(invbot, 128, 2)\n",
    "invbot = InvBottleResBlock(invbot, 128)\n",
    "invbot = InvBottleResBlock(invbot, 200)\n",
    "conv_2 = Conv2D(filters=360, kernel_size=1, activation=\"relu\")(invbot)\n",
    "conv_2 = BatchNormalization()(conv_2)\n",
    "global_avg = GlobalAveragePooling2D()(conv_2)\n",
    "flatten = Flatten()(global_avg)\n",
    "output = Dense(7, activation=\"softmax\", name=\"output\")(flatten)\n",
    "model = Model(inputs=[input_layer], outputs=[output])\n",
    "\n",
    "model.compile(\n",
    "    optimizer=keras.optimizers.Nadam(), \n",
    "    loss=OrionLoss(), \n",
    "    metrics=['accuracy', keras.metrics.CategoricalCrossentropy()]\n",
    "    )"
   ]
  },
  {
   "cell_type": "code",
   "execution_count": 26,
   "metadata": {},
   "outputs": [],
   "source": [
    "from keras.models import load_model\n",
    "\n",
    "model = load_model(\"skin_cancer_invbneckres_V2_oloss.h5\", compile=False)\n",
    "model.compile(\n",
    "    optimizer=keras.optimizers.Nadam(learning_rate=1e-5), \n",
    "    loss=OrionLoss(), \n",
    "    metrics=['accuracy', keras.metrics.CategoricalCrossentropy()]\n",
    "    )"
   ]
  },
  {
   "cell_type": "code",
   "execution_count": 27,
   "metadata": {},
   "outputs": [
    {
     "name": "stdout",
     "output_type": "stream",
     "text": [
      "Model: \"model_1\"\n",
      "__________________________________________________________________________________________________\n",
      " Layer (type)                   Output Shape         Param #     Connected to                     \n",
      "==================================================================================================\n",
      " input_3 (InputLayer)           [(None, 224, 224, 3  0           []                               \n",
      "                                )]                                                                \n",
      "                                                                                                  \n",
      " rescaling_1 (Rescaling)        (None, 224, 224, 3)  0           ['input_3[0][0]']                \n",
      "                                                                                                  \n",
      " conv2d_20 (Conv2D)             (None, 112, 112, 32  2432        ['rescaling_1[0][0]']            \n",
      "                                )                                                                 \n",
      "                                                                                                  \n",
      " batch_normalization_28 (BatchN  (None, 112, 112, 32  128        ['conv2d_20[0][0]']              \n",
      " ormalization)                  )                                                                 \n",
      "                                                                                                  \n",
      " tf.nn.local_response_normaliza  (None, 112, 112, 32  0          ['batch_normalization_28[0][0]'] \n",
      " tion_1 (TFOpLambda)            )                                                                 \n",
      "                                                                                                  \n",
      " conv2d_21 (Conv2D)             (None, 112, 112, 16  512         ['tf.nn.local_response_normalizat\n",
      "                                )                                ion_1[0][0]']                    \n",
      "                                                                                                  \n",
      " batch_normalization_29 (BatchN  (None, 112, 112, 16  64         ['conv2d_21[0][0]']              \n",
      " ormalization)                  )                                                                 \n",
      "                                                                                                  \n",
      " activation_16 (Activation)     (None, 112, 112, 16  0           ['batch_normalization_29[0][0]'] \n",
      "                                )                                                                 \n",
      "                                                                                                  \n",
      " depthwise_conv2d (DepthwiseCon  (None, 112, 112, 16  144        ['activation_16[0][0]']          \n",
      " v2D)                           )                                                                 \n",
      "                                                                                                  \n",
      " batch_normalization_30 (BatchN  (None, 112, 112, 16  64         ['depthwise_conv2d[0][0]']       \n",
      " ormalization)                  )                                                                 \n",
      "                                                                                                  \n",
      " activation_17 (Activation)     (None, 112, 112, 16  0           ['batch_normalization_30[0][0]'] \n",
      "                                )                                                                 \n",
      "                                                                                                  \n",
      " conv2d_23 (Conv2D)             (None, 112, 112, 16  512         ['tf.nn.local_response_normalizat\n",
      "                                )                                ion_1[0][0]']                    \n",
      "                                                                                                  \n",
      " conv2d_22 (Conv2D)             (None, 112, 112, 16  256         ['activation_17[0][0]']          \n",
      "                                )                                                                 \n",
      "                                                                                                  \n",
      " batch_normalization_31 (BatchN  (None, 112, 112, 16  64         ['conv2d_23[0][0]']              \n",
      " ormalization)                  )                                                                 \n",
      "                                                                                                  \n",
      " tf.__operators__.add_8 (TFOpLa  (None, 112, 112, 16  0          ['conv2d_22[0][0]',              \n",
      " mbda)                          )                                 'batch_normalization_31[0][0]'] \n",
      "                                                                                                  \n",
      " conv2d_24 (Conv2D)             (None, 56, 56, 96)   1536        ['tf.__operators__.add_8[0][0]'] \n",
      "                                                                                                  \n",
      " batch_normalization_32 (BatchN  (None, 56, 56, 96)  384         ['conv2d_24[0][0]']              \n",
      " ormalization)                                                                                    \n",
      "                                                                                                  \n",
      " activation_18 (Activation)     (None, 56, 56, 96)   0           ['batch_normalization_32[0][0]'] \n",
      "                                                                                                  \n",
      " depthwise_conv2d_1 (DepthwiseC  (None, 56, 56, 96)  864         ['activation_18[0][0]']          \n",
      " onv2D)                                                                                           \n",
      "                                                                                                  \n",
      " batch_normalization_33 (BatchN  (None, 56, 56, 96)  384         ['depthwise_conv2d_1[0][0]']     \n",
      " ormalization)                                                                                    \n",
      "                                                                                                  \n",
      " activation_19 (Activation)     (None, 56, 56, 96)   0           ['batch_normalization_33[0][0]'] \n",
      "                                                                                                  \n",
      " conv2d_26 (Conv2D)             (None, 56, 56, 24)   384         ['tf.__operators__.add_8[0][0]'] \n",
      "                                                                                                  \n",
      " conv2d_25 (Conv2D)             (None, 56, 56, 24)   2304        ['activation_19[0][0]']          \n",
      "                                                                                                  \n",
      " batch_normalization_34 (BatchN  (None, 56, 56, 24)  96          ['conv2d_26[0][0]']              \n",
      " ormalization)                                                                                    \n",
      "                                                                                                  \n",
      " tf.__operators__.add_9 (TFOpLa  (None, 56, 56, 24)  0           ['conv2d_25[0][0]',              \n",
      " mbda)                                                            'batch_normalization_34[0][0]'] \n",
      "                                                                                                  \n",
      " conv2d_27 (Conv2D)             (None, 56, 56, 96)   2304        ['tf.__operators__.add_9[0][0]'] \n",
      "                                                                                                  \n",
      " batch_normalization_35 (BatchN  (None, 56, 56, 96)  384         ['conv2d_27[0][0]']              \n",
      " ormalization)                                                                                    \n",
      "                                                                                                  \n",
      " activation_20 (Activation)     (None, 56, 56, 96)   0           ['batch_normalization_35[0][0]'] \n",
      "                                                                                                  \n",
      " depthwise_conv2d_2 (DepthwiseC  (None, 56, 56, 96)  864         ['activation_20[0][0]']          \n",
      " onv2D)                                                                                           \n",
      "                                                                                                  \n",
      " batch_normalization_36 (BatchN  (None, 56, 56, 96)  384         ['depthwise_conv2d_2[0][0]']     \n",
      " ormalization)                                                                                    \n",
      "                                                                                                  \n",
      " activation_21 (Activation)     (None, 56, 56, 96)   0           ['batch_normalization_36[0][0]'] \n",
      "                                                                                                  \n",
      " conv2d_28 (Conv2D)             (None, 56, 56, 24)   2304        ['activation_21[0][0]']          \n",
      "                                                                                                  \n",
      " tf.__operators__.add_10 (TFOpL  (None, 56, 56, 24)  0           ['conv2d_28[0][0]',              \n",
      " ambda)                                                           'tf.__operators__.add_9[0][0]'] \n",
      "                                                                                                  \n",
      " conv2d_29 (Conv2D)             (None, 28, 28, 128)  3072        ['tf.__operators__.add_10[0][0]']\n",
      "                                                                                                  \n",
      " batch_normalization_37 (BatchN  (None, 28, 28, 128)  512        ['conv2d_29[0][0]']              \n",
      " ormalization)                                                                                    \n",
      "                                                                                                  \n",
      " activation_22 (Activation)     (None, 28, 28, 128)  0           ['batch_normalization_37[0][0]'] \n",
      "                                                                                                  \n",
      " depthwise_conv2d_3 (DepthwiseC  (None, 28, 28, 128)  1152       ['activation_22[0][0]']          \n",
      " onv2D)                                                                                           \n",
      "                                                                                                  \n",
      " batch_normalization_38 (BatchN  (None, 28, 28, 128)  512        ['depthwise_conv2d_3[0][0]']     \n",
      " ormalization)                                                                                    \n",
      "                                                                                                  \n",
      " activation_23 (Activation)     (None, 28, 28, 128)  0           ['batch_normalization_38[0][0]'] \n",
      "                                                                                                  \n",
      " conv2d_31 (Conv2D)             (None, 28, 28, 32)   768         ['tf.__operators__.add_10[0][0]']\n",
      "                                                                                                  \n",
      " conv2d_30 (Conv2D)             (None, 28, 28, 32)   4096        ['activation_23[0][0]']          \n",
      "                                                                                                  \n",
      " batch_normalization_39 (BatchN  (None, 28, 28, 32)  128         ['conv2d_31[0][0]']              \n",
      " ormalization)                                                                                    \n",
      "                                                                                                  \n",
      " tf.__operators__.add_11 (TFOpL  (None, 28, 28, 32)  0           ['conv2d_30[0][0]',              \n",
      " ambda)                                                           'batch_normalization_39[0][0]'] \n",
      "                                                                                                  \n",
      " conv2d_32 (Conv2D)             (None, 28, 28, 128)  4096        ['tf.__operators__.add_11[0][0]']\n",
      "                                                                                                  \n",
      " batch_normalization_40 (BatchN  (None, 28, 28, 128)  512        ['conv2d_32[0][0]']              \n",
      " ormalization)                                                                                    \n",
      "                                                                                                  \n",
      " activation_24 (Activation)     (None, 28, 28, 128)  0           ['batch_normalization_40[0][0]'] \n",
      "                                                                                                  \n",
      " depthwise_conv2d_4 (DepthwiseC  (None, 28, 28, 128)  1152       ['activation_24[0][0]']          \n",
      " onv2D)                                                                                           \n",
      "                                                                                                  \n",
      " batch_normalization_41 (BatchN  (None, 28, 28, 128)  512        ['depthwise_conv2d_4[0][0]']     \n",
      " ormalization)                                                                                    \n",
      "                                                                                                  \n",
      " activation_25 (Activation)     (None, 28, 28, 128)  0           ['batch_normalization_41[0][0]'] \n",
      "                                                                                                  \n",
      " conv2d_33 (Conv2D)             (None, 28, 28, 32)   4096        ['activation_25[0][0]']          \n",
      "                                                                                                  \n",
      " tf.__operators__.add_12 (TFOpL  (None, 28, 28, 32)  0           ['conv2d_33[0][0]',              \n",
      " ambda)                                                           'tf.__operators__.add_11[0][0]']\n",
      "                                                                                                  \n",
      " conv2d_34 (Conv2D)             (None, 14, 14, 256)  8192        ['tf.__operators__.add_12[0][0]']\n",
      "                                                                                                  \n",
      " batch_normalization_42 (BatchN  (None, 14, 14, 256)  1024       ['conv2d_34[0][0]']              \n",
      " ormalization)                                                                                    \n",
      "                                                                                                  \n",
      " activation_26 (Activation)     (None, 14, 14, 256)  0           ['batch_normalization_42[0][0]'] \n",
      "                                                                                                  \n",
      " depthwise_conv2d_5 (DepthwiseC  (None, 14, 14, 256)  2304       ['activation_26[0][0]']          \n",
      " onv2D)                                                                                           \n",
      "                                                                                                  \n",
      " batch_normalization_43 (BatchN  (None, 14, 14, 256)  1024       ['depthwise_conv2d_5[0][0]']     \n",
      " ormalization)                                                                                    \n",
      "                                                                                                  \n",
      " activation_27 (Activation)     (None, 14, 14, 256)  0           ['batch_normalization_43[0][0]'] \n",
      "                                                                                                  \n",
      " conv2d_36 (Conv2D)             (None, 14, 14, 64)   2048        ['tf.__operators__.add_12[0][0]']\n",
      "                                                                                                  \n",
      " conv2d_35 (Conv2D)             (None, 14, 14, 64)   16384       ['activation_27[0][0]']          \n",
      "                                                                                                  \n",
      " batch_normalization_44 (BatchN  (None, 14, 14, 64)  256         ['conv2d_36[0][0]']              \n",
      " ormalization)                                                                                    \n",
      "                                                                                                  \n",
      " tf.__operators__.add_13 (TFOpL  (None, 14, 14, 64)  0           ['conv2d_35[0][0]',              \n",
      " ambda)                                                           'batch_normalization_44[0][0]'] \n",
      "                                                                                                  \n",
      " conv2d_37 (Conv2D)             (None, 14, 14, 256)  16384       ['tf.__operators__.add_13[0][0]']\n",
      "                                                                                                  \n",
      " batch_normalization_45 (BatchN  (None, 14, 14, 256)  1024       ['conv2d_37[0][0]']              \n",
      " ormalization)                                                                                    \n",
      "                                                                                                  \n",
      " activation_28 (Activation)     (None, 14, 14, 256)  0           ['batch_normalization_45[0][0]'] \n",
      "                                                                                                  \n",
      " depthwise_conv2d_6 (DepthwiseC  (None, 14, 14, 256)  2304       ['activation_28[0][0]']          \n",
      " onv2D)                                                                                           \n",
      "                                                                                                  \n",
      " batch_normalization_46 (BatchN  (None, 14, 14, 256)  1024       ['depthwise_conv2d_6[0][0]']     \n",
      " ormalization)                                                                                    \n",
      "                                                                                                  \n",
      " activation_29 (Activation)     (None, 14, 14, 256)  0           ['batch_normalization_46[0][0]'] \n",
      "                                                                                                  \n",
      " conv2d_38 (Conv2D)             (None, 14, 14, 64)   16384       ['activation_29[0][0]']          \n",
      "                                                                                                  \n",
      " tf.__operators__.add_14 (TFOpL  (None, 14, 14, 64)  0           ['conv2d_38[0][0]',              \n",
      " ambda)                                                           'tf.__operators__.add_13[0][0]']\n",
      "                                                                                                  \n",
      " conv2d_39 (Conv2D)             (None, 14, 14, 256)  16384       ['tf.__operators__.add_14[0][0]']\n",
      "                                                                                                  \n",
      " batch_normalization_47 (BatchN  (None, 14, 14, 256)  1024       ['conv2d_39[0][0]']              \n",
      " ormalization)                                                                                    \n",
      "                                                                                                  \n",
      " activation_30 (Activation)     (None, 14, 14, 256)  0           ['batch_normalization_47[0][0]'] \n",
      "                                                                                                  \n",
      " depthwise_conv2d_7 (DepthwiseC  (None, 14, 14, 256)  2304       ['activation_30[0][0]']          \n",
      " onv2D)                                                                                           \n",
      "                                                                                                  \n",
      " batch_normalization_48 (BatchN  (None, 14, 14, 256)  1024       ['depthwise_conv2d_7[0][0]']     \n",
      " ormalization)                                                                                    \n",
      "                                                                                                  \n",
      " activation_31 (Activation)     (None, 14, 14, 256)  0           ['batch_normalization_48[0][0]'] \n",
      "                                                                                                  \n",
      " conv2d_40 (Conv2D)             (None, 14, 14, 64)   16384       ['activation_31[0][0]']          \n",
      "                                                                                                  \n",
      " tf.__operators__.add_15 (TFOpL  (None, 14, 14, 64)  0           ['conv2d_40[0][0]',              \n",
      " ambda)                                                           'tf.__operators__.add_14[0][0]']\n",
      "                                                                                                  \n",
      " conv2d_41 (Conv2D)             (None, 14, 14, 384)  24576       ['tf.__operators__.add_15[0][0]']\n",
      "                                                                                                  \n",
      " batch_normalization_49 (BatchN  (None, 14, 14, 384)  1536       ['conv2d_41[0][0]']              \n",
      " ormalization)                                                                                    \n",
      "                                                                                                  \n",
      " activation_32 (Activation)     (None, 14, 14, 384)  0           ['batch_normalization_49[0][0]'] \n",
      "                                                                                                  \n",
      " depthwise_conv2d_8 (DepthwiseC  (None, 14, 14, 384)  3456       ['activation_32[0][0]']          \n",
      " onv2D)                                                                                           \n",
      "                                                                                                  \n",
      " batch_normalization_50 (BatchN  (None, 14, 14, 384)  1536       ['depthwise_conv2d_8[0][0]']     \n",
      " ormalization)                                                                                    \n",
      "                                                                                                  \n",
      " activation_33 (Activation)     (None, 14, 14, 384)  0           ['batch_normalization_50[0][0]'] \n",
      "                                                                                                  \n",
      " conv2d_43 (Conv2D)             (None, 14, 14, 96)   6144        ['tf.__operators__.add_15[0][0]']\n",
      "                                                                                                  \n",
      " conv2d_42 (Conv2D)             (None, 14, 14, 96)   36864       ['activation_33[0][0]']          \n",
      "                                                                                                  \n",
      " batch_normalization_51 (BatchN  (None, 14, 14, 96)  384         ['conv2d_43[0][0]']              \n",
      " ormalization)                                                                                    \n",
      "                                                                                                  \n",
      " tf.__operators__.add_16 (TFOpL  (None, 14, 14, 96)  0           ['conv2d_42[0][0]',              \n",
      " ambda)                                                           'batch_normalization_51[0][0]'] \n",
      "                                                                                                  \n",
      " conv2d_44 (Conv2D)             (None, 14, 14, 384)  36864       ['tf.__operators__.add_16[0][0]']\n",
      "                                                                                                  \n",
      " batch_normalization_52 (BatchN  (None, 14, 14, 384)  1536       ['conv2d_44[0][0]']              \n",
      " ormalization)                                                                                    \n",
      "                                                                                                  \n",
      " activation_34 (Activation)     (None, 14, 14, 384)  0           ['batch_normalization_52[0][0]'] \n",
      "                                                                                                  \n",
      " depthwise_conv2d_9 (DepthwiseC  (None, 14, 14, 384)  3456       ['activation_34[0][0]']          \n",
      " onv2D)                                                                                           \n",
      "                                                                                                  \n",
      " batch_normalization_53 (BatchN  (None, 14, 14, 384)  1536       ['depthwise_conv2d_9[0][0]']     \n",
      " ormalization)                                                                                    \n",
      "                                                                                                  \n",
      " activation_35 (Activation)     (None, 14, 14, 384)  0           ['batch_normalization_53[0][0]'] \n",
      "                                                                                                  \n",
      " conv2d_45 (Conv2D)             (None, 14, 14, 96)   36864       ['activation_35[0][0]']          \n",
      "                                                                                                  \n",
      " tf.__operators__.add_17 (TFOpL  (None, 14, 14, 96)  0           ['conv2d_45[0][0]',              \n",
      " ambda)                                                           'tf.__operators__.add_16[0][0]']\n",
      "                                                                                                  \n",
      " conv2d_46 (Conv2D)             (None, 7, 7, 512)    49152       ['tf.__operators__.add_17[0][0]']\n",
      "                                                                                                  \n",
      " batch_normalization_54 (BatchN  (None, 7, 7, 512)   2048        ['conv2d_46[0][0]']              \n",
      " ormalization)                                                                                    \n",
      "                                                                                                  \n",
      " activation_36 (Activation)     (None, 7, 7, 512)    0           ['batch_normalization_54[0][0]'] \n",
      "                                                                                                  \n",
      " depthwise_conv2d_10 (Depthwise  (None, 7, 7, 512)   4608        ['activation_36[0][0]']          \n",
      " Conv2D)                                                                                          \n",
      "                                                                                                  \n",
      " batch_normalization_55 (BatchN  (None, 7, 7, 512)   2048        ['depthwise_conv2d_10[0][0]']    \n",
      " ormalization)                                                                                    \n",
      "                                                                                                  \n",
      " activation_37 (Activation)     (None, 7, 7, 512)    0           ['batch_normalization_55[0][0]'] \n",
      "                                                                                                  \n",
      " conv2d_48 (Conv2D)             (None, 7, 7, 128)    12288       ['tf.__operators__.add_17[0][0]']\n",
      "                                                                                                  \n",
      " conv2d_47 (Conv2D)             (None, 7, 7, 128)    65536       ['activation_37[0][0]']          \n",
      "                                                                                                  \n",
      " batch_normalization_56 (BatchN  (None, 7, 7, 128)   512         ['conv2d_48[0][0]']              \n",
      " ormalization)                                                                                    \n",
      "                                                                                                  \n",
      " tf.__operators__.add_18 (TFOpL  (None, 7, 7, 128)   0           ['conv2d_47[0][0]',              \n",
      " ambda)                                                           'batch_normalization_56[0][0]'] \n",
      "                                                                                                  \n",
      " conv2d_49 (Conv2D)             (None, 7, 7, 512)    65536       ['tf.__operators__.add_18[0][0]']\n",
      "                                                                                                  \n",
      " batch_normalization_57 (BatchN  (None, 7, 7, 512)   2048        ['conv2d_49[0][0]']              \n",
      " ormalization)                                                                                    \n",
      "                                                                                                  \n",
      " activation_38 (Activation)     (None, 7, 7, 512)    0           ['batch_normalization_57[0][0]'] \n",
      "                                                                                                  \n",
      " depthwise_conv2d_11 (Depthwise  (None, 7, 7, 512)   4608        ['activation_38[0][0]']          \n",
      " Conv2D)                                                                                          \n",
      "                                                                                                  \n",
      " batch_normalization_58 (BatchN  (None, 7, 7, 512)   2048        ['depthwise_conv2d_11[0][0]']    \n",
      " ormalization)                                                                                    \n",
      "                                                                                                  \n",
      " activation_39 (Activation)     (None, 7, 7, 512)    0           ['batch_normalization_58[0][0]'] \n",
      "                                                                                                  \n",
      " conv2d_50 (Conv2D)             (None, 7, 7, 128)    65536       ['activation_39[0][0]']          \n",
      "                                                                                                  \n",
      " tf.__operators__.add_19 (TFOpL  (None, 7, 7, 128)   0           ['conv2d_50[0][0]',              \n",
      " ambda)                                                           'tf.__operators__.add_18[0][0]']\n",
      "                                                                                                  \n",
      " conv2d_51 (Conv2D)             (None, 7, 7, 800)    102400      ['tf.__operators__.add_19[0][0]']\n",
      "                                                                                                  \n",
      " batch_normalization_59 (BatchN  (None, 7, 7, 800)   3200        ['conv2d_51[0][0]']              \n",
      " ormalization)                                                                                    \n",
      "                                                                                                  \n",
      " activation_40 (Activation)     (None, 7, 7, 800)    0           ['batch_normalization_59[0][0]'] \n",
      "                                                                                                  \n",
      " depthwise_conv2d_12 (Depthwise  (None, 7, 7, 800)   7200        ['activation_40[0][0]']          \n",
      " Conv2D)                                                                                          \n",
      "                                                                                                  \n",
      " batch_normalization_60 (BatchN  (None, 7, 7, 800)   3200        ['depthwise_conv2d_12[0][0]']    \n",
      " ormalization)                                                                                    \n",
      "                                                                                                  \n",
      " activation_41 (Activation)     (None, 7, 7, 800)    0           ['batch_normalization_60[0][0]'] \n",
      "                                                                                                  \n",
      " conv2d_53 (Conv2D)             (None, 7, 7, 200)    25600       ['tf.__operators__.add_19[0][0]']\n",
      "                                                                                                  \n",
      " conv2d_52 (Conv2D)             (None, 7, 7, 200)    160000      ['activation_41[0][0]']          \n",
      "                                                                                                  \n",
      " batch_normalization_61 (BatchN  (None, 7, 7, 200)   800         ['conv2d_53[0][0]']              \n",
      " ormalization)                                                                                    \n",
      "                                                                                                  \n",
      " tf.__operators__.add_20 (TFOpL  (None, 7, 7, 200)   0           ['conv2d_52[0][0]',              \n",
      " ambda)                                                           'batch_normalization_61[0][0]'] \n",
      "                                                                                                  \n",
      " conv2d_54 (Conv2D)             (None, 7, 7, 360)    72360       ['tf.__operators__.add_20[0][0]']\n",
      "                                                                                                  \n",
      " batch_normalization_62 (BatchN  (None, 7, 7, 360)   1440        ['conv2d_54[0][0]']              \n",
      " ormalization)                                                                                    \n",
      "                                                                                                  \n",
      " global_average_pooling2d_9 (Gl  (None, 360)         0           ['batch_normalization_62[0][0]'] \n",
      " obalAveragePooling2D)                                                                            \n",
      "                                                                                                  \n",
      " flatten_1 (Flatten)            (None, 360)          0           ['global_average_pooling2d_9[0][0\n",
      "                                                                 ]']                              \n",
      "                                                                                                  \n",
      " output (Dense)                 (None, 7)            2527        ['flatten_1[0][0]']              \n",
      "                                                                                                  \n",
      "==================================================================================================\n",
      "Total params: 951,895\n",
      "Trainable params: 934,695\n",
      "Non-trainable params: 17,200\n",
      "__________________________________________________________________________________________________\n"
     ]
    }
   ],
   "source": [
    "model.summary()"
   ]
  },
  {
   "cell_type": "code",
   "execution_count": 28,
   "metadata": {},
   "outputs": [],
   "source": [
    "lr_scheduler = callbacks.ReduceLROnPlateau(factor=0.3, patience=2, min_lr=1e-7)"
   ]
  },
  {
   "cell_type": "code",
   "execution_count": 29,
   "metadata": {},
   "outputs": [
    {
     "name": "stdout",
     "output_type": "stream",
     "text": [
      "Epoch 1/10\n",
      "226/226 [==============================] - 560s 2s/step - loss: 1.7196 - accuracy: 0.4379 - categorical_crossentropy: 1.6164 - val_loss: 1.3884 - val_accuracy: 0.4783 - val_categorical_crossentropy: 1.3868 - lr: 1.0000e-05\n",
      "Epoch 2/10\n",
      "226/226 [==============================] - 504s 2s/step - loss: 1.7081 - accuracy: 0.4311 - categorical_crossentropy: 1.6118 - val_loss: 1.3847 - val_accuracy: 0.4839 - val_categorical_crossentropy: 1.3832 - lr: 1.0000e-05\n",
      "Epoch 3/10\n",
      "226/226 [==============================] - 509s 2s/step - loss: 1.7004 - accuracy: 0.4316 - categorical_crossentropy: 1.6153 - val_loss: 1.3897 - val_accuracy: 0.4816 - val_categorical_crossentropy: 1.3882 - lr: 1.0000e-05\n",
      "Epoch 4/10\n",
      "226/226 [==============================] - 499s 2s/step - loss: 1.7009 - accuracy: 0.4314 - categorical_crossentropy: 1.6175 - val_loss: 1.3846 - val_accuracy: 0.4750 - val_categorical_crossentropy: 1.3831 - lr: 1.0000e-05\n",
      "Epoch 5/10\n",
      "226/226 [==============================] - 509s 2s/step - loss: 1.6996 - accuracy: 0.4228 - categorical_crossentropy: 1.6222 - val_loss: 1.3836 - val_accuracy: 0.4794 - val_categorical_crossentropy: 1.3823 - lr: 1.0000e-05\n",
      "Epoch 6/10\n",
      "226/226 [==============================] - 495s 2s/step - loss: 1.7099 - accuracy: 0.4211 - categorical_crossentropy: 1.6238 - val_loss: 1.3885 - val_accuracy: 0.4822 - val_categorical_crossentropy: 1.3870 - lr: 1.0000e-05\n",
      "Epoch 7/10\n",
      "226/226 [==============================] - 493s 2s/step - loss: 1.6987 - accuracy: 0.4287 - categorical_crossentropy: 1.6134 - val_loss: 1.3784 - val_accuracy: 0.4816 - val_categorical_crossentropy: 1.3767 - lr: 1.0000e-05\n",
      "Epoch 8/10\n",
      "226/226 [==============================] - 1434s 6s/step - loss: 1.6957 - accuracy: 0.4262 - categorical_crossentropy: 1.6162 - val_loss: 1.3647 - val_accuracy: 0.4911 - val_categorical_crossentropy: 1.3624 - lr: 1.0000e-05\n",
      "Epoch 9/10\n",
      "226/226 [==============================] - 506s 2s/step - loss: 1.6917 - accuracy: 0.4163 - categorical_crossentropy: 1.6238 - val_loss: 1.3686 - val_accuracy: 0.4872 - val_categorical_crossentropy: 1.3662 - lr: 1.0000e-05\n",
      "Epoch 10/10\n",
      "226/226 [==============================] - 502s 2s/step - loss: 1.6874 - accuracy: 0.4181 - categorical_crossentropy: 1.6236 - val_loss: 1.3601 - val_accuracy: 0.4850 - val_categorical_crossentropy: 1.3571 - lr: 1.0000e-05\n"
     ]
    }
   ],
   "source": [
    "history = model.fit(aug_ds, validation_data=val_ds, epochs=10, class_weight=cl_weight, callbacks=[lr_scheduler])"
   ]
  },
  {
   "cell_type": "code",
   "execution_count": 30,
   "metadata": {},
   "outputs": [
    {
     "name": "stdout",
     "output_type": "stream",
     "text": [
      "Epoch 1/10\n",
      " 13/226 [>.............................] - ETA: 7:38 - loss: 1.7320 - accuracy: 0.3726 - categorical_crossentropy: 1.7057"
     ]
    },
    {
     "ename": "KeyboardInterrupt",
     "evalue": "",
     "output_type": "error",
     "traceback": [
      "\u001b[1;31m---------------------------------------------------------------------------\u001b[0m",
      "\u001b[1;31mKeyboardInterrupt\u001b[0m                         Traceback (most recent call last)",
      "\u001b[1;32mc:\\MyPrograms\\Python\\Skin_Cancer\\skin_cancer.ipynb Cell 30\u001b[0m in \u001b[0;36m<cell line: 1>\u001b[1;34m()\u001b[0m\n\u001b[1;32m----> <a href='vscode-notebook-cell:/c%3A/MyPrograms/Python/Skin_Cancer/skin_cancer.ipynb#X40sZmlsZQ%3D%3D?line=0'>1</a>\u001b[0m history2 \u001b[39m=\u001b[39m model\u001b[39m.\u001b[39;49mfit(aug_ds, validation_data\u001b[39m=\u001b[39;49mval_ds, epochs\u001b[39m=\u001b[39;49m\u001b[39m10\u001b[39;49m, class_weight\u001b[39m=\u001b[39;49mcl_weight, callbacks\u001b[39m=\u001b[39;49m[lr_scheduler])\n",
      "File \u001b[1;32mc:\\Users\\OLIVERIO\\anaconda3\\lib\\site-packages\\keras\\utils\\traceback_utils.py:65\u001b[0m, in \u001b[0;36mfilter_traceback.<locals>.error_handler\u001b[1;34m(*args, **kwargs)\u001b[0m\n\u001b[0;32m     63\u001b[0m filtered_tb \u001b[39m=\u001b[39m \u001b[39mNone\u001b[39;00m\n\u001b[0;32m     64\u001b[0m \u001b[39mtry\u001b[39;00m:\n\u001b[1;32m---> 65\u001b[0m     \u001b[39mreturn\u001b[39;00m fn(\u001b[39m*\u001b[39margs, \u001b[39m*\u001b[39m\u001b[39m*\u001b[39mkwargs)\n\u001b[0;32m     66\u001b[0m \u001b[39mexcept\u001b[39;00m \u001b[39mException\u001b[39;00m \u001b[39mas\u001b[39;00m e:\n\u001b[0;32m     67\u001b[0m     filtered_tb \u001b[39m=\u001b[39m _process_traceback_frames(e\u001b[39m.\u001b[39m__traceback__)\n",
      "File \u001b[1;32mc:\\Users\\OLIVERIO\\anaconda3\\lib\\site-packages\\keras\\engine\\training.py:1564\u001b[0m, in \u001b[0;36mModel.fit\u001b[1;34m(self, x, y, batch_size, epochs, verbose, callbacks, validation_split, validation_data, shuffle, class_weight, sample_weight, initial_epoch, steps_per_epoch, validation_steps, validation_batch_size, validation_freq, max_queue_size, workers, use_multiprocessing)\u001b[0m\n\u001b[0;32m   1556\u001b[0m \u001b[39mwith\u001b[39;00m tf\u001b[39m.\u001b[39mprofiler\u001b[39m.\u001b[39mexperimental\u001b[39m.\u001b[39mTrace(\n\u001b[0;32m   1557\u001b[0m     \u001b[39m\"\u001b[39m\u001b[39mtrain\u001b[39m\u001b[39m\"\u001b[39m,\n\u001b[0;32m   1558\u001b[0m     epoch_num\u001b[39m=\u001b[39mepoch,\n\u001b[1;32m   (...)\u001b[0m\n\u001b[0;32m   1561\u001b[0m     _r\u001b[39m=\u001b[39m\u001b[39m1\u001b[39m,\n\u001b[0;32m   1562\u001b[0m ):\n\u001b[0;32m   1563\u001b[0m     callbacks\u001b[39m.\u001b[39mon_train_batch_begin(step)\n\u001b[1;32m-> 1564\u001b[0m     tmp_logs \u001b[39m=\u001b[39m \u001b[39mself\u001b[39;49m\u001b[39m.\u001b[39;49mtrain_function(iterator)\n\u001b[0;32m   1565\u001b[0m     \u001b[39mif\u001b[39;00m data_handler\u001b[39m.\u001b[39mshould_sync:\n\u001b[0;32m   1566\u001b[0m         context\u001b[39m.\u001b[39masync_wait()\n",
      "File \u001b[1;32mc:\\Users\\OLIVERIO\\anaconda3\\lib\\site-packages\\tensorflow\\python\\util\\traceback_utils.py:150\u001b[0m, in \u001b[0;36mfilter_traceback.<locals>.error_handler\u001b[1;34m(*args, **kwargs)\u001b[0m\n\u001b[0;32m    148\u001b[0m filtered_tb \u001b[39m=\u001b[39m \u001b[39mNone\u001b[39;00m\n\u001b[0;32m    149\u001b[0m \u001b[39mtry\u001b[39;00m:\n\u001b[1;32m--> 150\u001b[0m   \u001b[39mreturn\u001b[39;00m fn(\u001b[39m*\u001b[39margs, \u001b[39m*\u001b[39m\u001b[39m*\u001b[39mkwargs)\n\u001b[0;32m    151\u001b[0m \u001b[39mexcept\u001b[39;00m \u001b[39mException\u001b[39;00m \u001b[39mas\u001b[39;00m e:\n\u001b[0;32m    152\u001b[0m   filtered_tb \u001b[39m=\u001b[39m _process_traceback_frames(e\u001b[39m.\u001b[39m__traceback__)\n",
      "File \u001b[1;32mc:\\Users\\OLIVERIO\\anaconda3\\lib\\site-packages\\tensorflow\\python\\eager\\def_function.py:915\u001b[0m, in \u001b[0;36mFunction.__call__\u001b[1;34m(self, *args, **kwds)\u001b[0m\n\u001b[0;32m    912\u001b[0m compiler \u001b[39m=\u001b[39m \u001b[39m\"\u001b[39m\u001b[39mxla\u001b[39m\u001b[39m\"\u001b[39m \u001b[39mif\u001b[39;00m \u001b[39mself\u001b[39m\u001b[39m.\u001b[39m_jit_compile \u001b[39melse\u001b[39;00m \u001b[39m\"\u001b[39m\u001b[39mnonXla\u001b[39m\u001b[39m\"\u001b[39m\n\u001b[0;32m    914\u001b[0m \u001b[39mwith\u001b[39;00m OptionalXlaContext(\u001b[39mself\u001b[39m\u001b[39m.\u001b[39m_jit_compile):\n\u001b[1;32m--> 915\u001b[0m   result \u001b[39m=\u001b[39m \u001b[39mself\u001b[39m\u001b[39m.\u001b[39m_call(\u001b[39m*\u001b[39margs, \u001b[39m*\u001b[39m\u001b[39m*\u001b[39mkwds)\n\u001b[0;32m    917\u001b[0m new_tracing_count \u001b[39m=\u001b[39m \u001b[39mself\u001b[39m\u001b[39m.\u001b[39mexperimental_get_tracing_count()\n\u001b[0;32m    918\u001b[0m without_tracing \u001b[39m=\u001b[39m (tracing_count \u001b[39m==\u001b[39m new_tracing_count)\n",
      "File \u001b[1;32mc:\\Users\\OLIVERIO\\anaconda3\\lib\\site-packages\\tensorflow\\python\\eager\\def_function.py:947\u001b[0m, in \u001b[0;36mFunction._call\u001b[1;34m(self, *args, **kwds)\u001b[0m\n\u001b[0;32m    944\u001b[0m   \u001b[39mself\u001b[39m\u001b[39m.\u001b[39m_lock\u001b[39m.\u001b[39mrelease()\n\u001b[0;32m    945\u001b[0m   \u001b[39m# In this case we have created variables on the first call, so we run the\u001b[39;00m\n\u001b[0;32m    946\u001b[0m   \u001b[39m# defunned version which is guaranteed to never create variables.\u001b[39;00m\n\u001b[1;32m--> 947\u001b[0m   \u001b[39mreturn\u001b[39;00m \u001b[39mself\u001b[39m\u001b[39m.\u001b[39m_stateless_fn(\u001b[39m*\u001b[39margs, \u001b[39m*\u001b[39m\u001b[39m*\u001b[39mkwds)  \u001b[39m# pylint: disable=not-callable\u001b[39;00m\n\u001b[0;32m    948\u001b[0m \u001b[39melif\u001b[39;00m \u001b[39mself\u001b[39m\u001b[39m.\u001b[39m_stateful_fn \u001b[39mis\u001b[39;00m \u001b[39mnot\u001b[39;00m \u001b[39mNone\u001b[39;00m:\n\u001b[0;32m    949\u001b[0m   \u001b[39m# Release the lock early so that multiple threads can perform the call\u001b[39;00m\n\u001b[0;32m    950\u001b[0m   \u001b[39m# in parallel.\u001b[39;00m\n\u001b[0;32m    951\u001b[0m   \u001b[39mself\u001b[39m\u001b[39m.\u001b[39m_lock\u001b[39m.\u001b[39mrelease()\n",
      "File \u001b[1;32mc:\\Users\\OLIVERIO\\anaconda3\\lib\\site-packages\\tensorflow\\python\\eager\\function.py:2496\u001b[0m, in \u001b[0;36mFunction.__call__\u001b[1;34m(self, *args, **kwargs)\u001b[0m\n\u001b[0;32m   2493\u001b[0m \u001b[39mwith\u001b[39;00m \u001b[39mself\u001b[39m\u001b[39m.\u001b[39m_lock:\n\u001b[0;32m   2494\u001b[0m   (graph_function,\n\u001b[0;32m   2495\u001b[0m    filtered_flat_args) \u001b[39m=\u001b[39m \u001b[39mself\u001b[39m\u001b[39m.\u001b[39m_maybe_define_function(args, kwargs)\n\u001b[1;32m-> 2496\u001b[0m \u001b[39mreturn\u001b[39;00m graph_function\u001b[39m.\u001b[39;49m_call_flat(\n\u001b[0;32m   2497\u001b[0m     filtered_flat_args, captured_inputs\u001b[39m=\u001b[39;49mgraph_function\u001b[39m.\u001b[39;49mcaptured_inputs)\n",
      "File \u001b[1;32mc:\\Users\\OLIVERIO\\anaconda3\\lib\\site-packages\\tensorflow\\python\\eager\\function.py:1862\u001b[0m, in \u001b[0;36mConcreteFunction._call_flat\u001b[1;34m(self, args, captured_inputs, cancellation_manager)\u001b[0m\n\u001b[0;32m   1858\u001b[0m possible_gradient_type \u001b[39m=\u001b[39m gradients_util\u001b[39m.\u001b[39mPossibleTapeGradientTypes(args)\n\u001b[0;32m   1859\u001b[0m \u001b[39mif\u001b[39;00m (possible_gradient_type \u001b[39m==\u001b[39m gradients_util\u001b[39m.\u001b[39mPOSSIBLE_GRADIENT_TYPES_NONE\n\u001b[0;32m   1860\u001b[0m     \u001b[39mand\u001b[39;00m executing_eagerly):\n\u001b[0;32m   1861\u001b[0m   \u001b[39m# No tape is watching; skip to running the function.\u001b[39;00m\n\u001b[1;32m-> 1862\u001b[0m   \u001b[39mreturn\u001b[39;00m \u001b[39mself\u001b[39m\u001b[39m.\u001b[39m_build_call_outputs(\u001b[39mself\u001b[39;49m\u001b[39m.\u001b[39;49m_inference_function\u001b[39m.\u001b[39;49mcall(\n\u001b[0;32m   1863\u001b[0m       ctx, args, cancellation_manager\u001b[39m=\u001b[39;49mcancellation_manager))\n\u001b[0;32m   1864\u001b[0m forward_backward \u001b[39m=\u001b[39m \u001b[39mself\u001b[39m\u001b[39m.\u001b[39m_select_forward_and_backward_functions(\n\u001b[0;32m   1865\u001b[0m     args,\n\u001b[0;32m   1866\u001b[0m     possible_gradient_type,\n\u001b[0;32m   1867\u001b[0m     executing_eagerly)\n\u001b[0;32m   1868\u001b[0m forward_function, args_with_tangents \u001b[39m=\u001b[39m forward_backward\u001b[39m.\u001b[39mforward()\n",
      "File \u001b[1;32mc:\\Users\\OLIVERIO\\anaconda3\\lib\\site-packages\\tensorflow\\python\\eager\\function.py:499\u001b[0m, in \u001b[0;36m_EagerDefinedFunction.call\u001b[1;34m(self, ctx, args, cancellation_manager)\u001b[0m\n\u001b[0;32m    497\u001b[0m \u001b[39mwith\u001b[39;00m _InterpolateFunctionError(\u001b[39mself\u001b[39m):\n\u001b[0;32m    498\u001b[0m   \u001b[39mif\u001b[39;00m cancellation_manager \u001b[39mis\u001b[39;00m \u001b[39mNone\u001b[39;00m:\n\u001b[1;32m--> 499\u001b[0m     outputs \u001b[39m=\u001b[39m execute\u001b[39m.\u001b[39;49mexecute(\n\u001b[0;32m    500\u001b[0m         \u001b[39mstr\u001b[39;49m(\u001b[39mself\u001b[39;49m\u001b[39m.\u001b[39;49msignature\u001b[39m.\u001b[39;49mname),\n\u001b[0;32m    501\u001b[0m         num_outputs\u001b[39m=\u001b[39;49m\u001b[39mself\u001b[39;49m\u001b[39m.\u001b[39;49m_num_outputs,\n\u001b[0;32m    502\u001b[0m         inputs\u001b[39m=\u001b[39;49margs,\n\u001b[0;32m    503\u001b[0m         attrs\u001b[39m=\u001b[39;49mattrs,\n\u001b[0;32m    504\u001b[0m         ctx\u001b[39m=\u001b[39;49mctx)\n\u001b[0;32m    505\u001b[0m   \u001b[39melse\u001b[39;00m:\n\u001b[0;32m    506\u001b[0m     outputs \u001b[39m=\u001b[39m execute\u001b[39m.\u001b[39mexecute_with_cancellation(\n\u001b[0;32m    507\u001b[0m         \u001b[39mstr\u001b[39m(\u001b[39mself\u001b[39m\u001b[39m.\u001b[39msignature\u001b[39m.\u001b[39mname),\n\u001b[0;32m    508\u001b[0m         num_outputs\u001b[39m=\u001b[39m\u001b[39mself\u001b[39m\u001b[39m.\u001b[39m_num_outputs,\n\u001b[1;32m   (...)\u001b[0m\n\u001b[0;32m    511\u001b[0m         ctx\u001b[39m=\u001b[39mctx,\n\u001b[0;32m    512\u001b[0m         cancellation_manager\u001b[39m=\u001b[39mcancellation_manager)\n",
      "File \u001b[1;32mc:\\Users\\OLIVERIO\\anaconda3\\lib\\site-packages\\tensorflow\\python\\eager\\execute.py:54\u001b[0m, in \u001b[0;36mquick_execute\u001b[1;34m(op_name, num_outputs, inputs, attrs, ctx, name)\u001b[0m\n\u001b[0;32m     52\u001b[0m \u001b[39mtry\u001b[39;00m:\n\u001b[0;32m     53\u001b[0m   ctx\u001b[39m.\u001b[39mensure_initialized()\n\u001b[1;32m---> 54\u001b[0m   tensors \u001b[39m=\u001b[39m pywrap_tfe\u001b[39m.\u001b[39;49mTFE_Py_Execute(ctx\u001b[39m.\u001b[39;49m_handle, device_name, op_name,\n\u001b[0;32m     55\u001b[0m                                       inputs, attrs, num_outputs)\n\u001b[0;32m     56\u001b[0m \u001b[39mexcept\u001b[39;00m core\u001b[39m.\u001b[39m_NotOkStatusException \u001b[39mas\u001b[39;00m e:\n\u001b[0;32m     57\u001b[0m   \u001b[39mif\u001b[39;00m name \u001b[39mis\u001b[39;00m \u001b[39mnot\u001b[39;00m \u001b[39mNone\u001b[39;00m:\n",
      "\u001b[1;31mKeyboardInterrupt\u001b[0m: "
     ]
    }
   ],
   "source": [
    "history2 = model.fit(aug_ds, validation_data=val_ds, epochs=10, class_weight=cl_weight, callbacks=[lr_scheduler])"
   ]
  },
  {
   "cell_type": "code",
   "execution_count": null,
   "metadata": {},
   "outputs": [
    {
     "name": "stdout",
     "output_type": "stream",
     "text": [
      "Epoch 1/2\n",
      "289/289 [==============================] - 285s 984ms/step - loss: 1.7385 - output_loss: 1.7402 - aux_output_loss: 1.7289 - output_accuracy: 0.4163 - aux_output_accuracy: 0.4124 - val_loss: 1.4503 - val_output_loss: 1.4568 - val_aux_output_loss: 1.4137 - val_output_accuracy: 0.4794 - val_aux_output_accuracy: 0.4833 - lr: 8.1000e-05\n",
      "Epoch 2/2\n",
      "289/289 [==============================] - 292s 1s/step - loss: 1.7344 - output_loss: 1.7371 - aux_output_loss: 1.7189 - output_accuracy: 0.4169 - aux_output_accuracy: 0.4128 - val_loss: 1.4550 - val_output_loss: 1.4607 - val_aux_output_loss: 1.4224 - val_output_accuracy: 0.4778 - val_aux_output_accuracy: 0.4811 - lr: 8.1000e-05\n"
     ]
    }
   ],
   "source": [
    "history3 = model.fit(aug_ds, validation_data=val_ds, epochs=2, class_weight=cl_weight, callbacks=[lr_scheduler])"
   ]
  },
  {
   "cell_type": "code",
   "execution_count": null,
   "metadata": {},
   "outputs": [
    {
     "name": "stdout",
     "output_type": "stream",
     "text": [
      "Epoch 1/8\n"
     ]
    },
    {
     "ename": "KeyboardInterrupt",
     "evalue": "",
     "output_type": "error",
     "traceback": [
      "\u001b[1;31m---------------------------------------------------------------------------\u001b[0m",
      "\u001b[1;31mKeyboardInterrupt\u001b[0m                         Traceback (most recent call last)",
      "\u001b[1;32mc:\\MyPrograms\\Python\\Skin_Cancer\\skin_cancer.ipynb Cell 25\u001b[0m in \u001b[0;36m<cell line: 1>\u001b[1;34m()\u001b[0m\n\u001b[1;32m----> <a href='vscode-notebook-cell:/c%3A/MyPrograms/Python/Skin_Cancer/skin_cancer.ipynb#X33sZmlsZQ%3D%3D?line=0'>1</a>\u001b[0m history4 \u001b[39m=\u001b[39m model\u001b[39m.\u001b[39;49mfit(aug_ds, validation_data\u001b[39m=\u001b[39;49mval_ds, epochs\u001b[39m=\u001b[39;49m\u001b[39m8\u001b[39;49m, class_weight\u001b[39m=\u001b[39;49mcl_weight, callbacks\u001b[39m=\u001b[39;49m[lr_scheduler])\n",
      "File \u001b[1;32mc:\\Users\\OLIVERIO\\anaconda3\\lib\\site-packages\\keras\\utils\\traceback_utils.py:65\u001b[0m, in \u001b[0;36mfilter_traceback.<locals>.error_handler\u001b[1;34m(*args, **kwargs)\u001b[0m\n\u001b[0;32m     63\u001b[0m filtered_tb \u001b[39m=\u001b[39m \u001b[39mNone\u001b[39;00m\n\u001b[0;32m     64\u001b[0m \u001b[39mtry\u001b[39;00m:\n\u001b[1;32m---> 65\u001b[0m     \u001b[39mreturn\u001b[39;00m fn(\u001b[39m*\u001b[39margs, \u001b[39m*\u001b[39m\u001b[39m*\u001b[39mkwargs)\n\u001b[0;32m     66\u001b[0m \u001b[39mexcept\u001b[39;00m \u001b[39mException\u001b[39;00m \u001b[39mas\u001b[39;00m e:\n\u001b[0;32m     67\u001b[0m     filtered_tb \u001b[39m=\u001b[39m _process_traceback_frames(e\u001b[39m.\u001b[39m__traceback__)\n",
      "File \u001b[1;32mc:\\Users\\OLIVERIO\\anaconda3\\lib\\site-packages\\keras\\engine\\training.py:1564\u001b[0m, in \u001b[0;36mModel.fit\u001b[1;34m(self, x, y, batch_size, epochs, verbose, callbacks, validation_split, validation_data, shuffle, class_weight, sample_weight, initial_epoch, steps_per_epoch, validation_steps, validation_batch_size, validation_freq, max_queue_size, workers, use_multiprocessing)\u001b[0m\n\u001b[0;32m   1556\u001b[0m \u001b[39mwith\u001b[39;00m tf\u001b[39m.\u001b[39mprofiler\u001b[39m.\u001b[39mexperimental\u001b[39m.\u001b[39mTrace(\n\u001b[0;32m   1557\u001b[0m     \u001b[39m\"\u001b[39m\u001b[39mtrain\u001b[39m\u001b[39m\"\u001b[39m,\n\u001b[0;32m   1558\u001b[0m     epoch_num\u001b[39m=\u001b[39mepoch,\n\u001b[1;32m   (...)\u001b[0m\n\u001b[0;32m   1561\u001b[0m     _r\u001b[39m=\u001b[39m\u001b[39m1\u001b[39m,\n\u001b[0;32m   1562\u001b[0m ):\n\u001b[0;32m   1563\u001b[0m     callbacks\u001b[39m.\u001b[39mon_train_batch_begin(step)\n\u001b[1;32m-> 1564\u001b[0m     tmp_logs \u001b[39m=\u001b[39m \u001b[39mself\u001b[39;49m\u001b[39m.\u001b[39;49mtrain_function(iterator)\n\u001b[0;32m   1565\u001b[0m     \u001b[39mif\u001b[39;00m data_handler\u001b[39m.\u001b[39mshould_sync:\n\u001b[0;32m   1566\u001b[0m         context\u001b[39m.\u001b[39masync_wait()\n",
      "File \u001b[1;32mc:\\Users\\OLIVERIO\\anaconda3\\lib\\site-packages\\tensorflow\\python\\util\\traceback_utils.py:150\u001b[0m, in \u001b[0;36mfilter_traceback.<locals>.error_handler\u001b[1;34m(*args, **kwargs)\u001b[0m\n\u001b[0;32m    148\u001b[0m filtered_tb \u001b[39m=\u001b[39m \u001b[39mNone\u001b[39;00m\n\u001b[0;32m    149\u001b[0m \u001b[39mtry\u001b[39;00m:\n\u001b[1;32m--> 150\u001b[0m   \u001b[39mreturn\u001b[39;00m fn(\u001b[39m*\u001b[39margs, \u001b[39m*\u001b[39m\u001b[39m*\u001b[39mkwargs)\n\u001b[0;32m    151\u001b[0m \u001b[39mexcept\u001b[39;00m \u001b[39mException\u001b[39;00m \u001b[39mas\u001b[39;00m e:\n\u001b[0;32m    152\u001b[0m   filtered_tb \u001b[39m=\u001b[39m _process_traceback_frames(e\u001b[39m.\u001b[39m__traceback__)\n",
      "File \u001b[1;32mc:\\Users\\OLIVERIO\\anaconda3\\lib\\site-packages\\tensorflow\\python\\eager\\def_function.py:915\u001b[0m, in \u001b[0;36mFunction.__call__\u001b[1;34m(self, *args, **kwds)\u001b[0m\n\u001b[0;32m    912\u001b[0m compiler \u001b[39m=\u001b[39m \u001b[39m\"\u001b[39m\u001b[39mxla\u001b[39m\u001b[39m\"\u001b[39m \u001b[39mif\u001b[39;00m \u001b[39mself\u001b[39m\u001b[39m.\u001b[39m_jit_compile \u001b[39melse\u001b[39;00m \u001b[39m\"\u001b[39m\u001b[39mnonXla\u001b[39m\u001b[39m\"\u001b[39m\n\u001b[0;32m    914\u001b[0m \u001b[39mwith\u001b[39;00m OptionalXlaContext(\u001b[39mself\u001b[39m\u001b[39m.\u001b[39m_jit_compile):\n\u001b[1;32m--> 915\u001b[0m   result \u001b[39m=\u001b[39m \u001b[39mself\u001b[39m\u001b[39m.\u001b[39m_call(\u001b[39m*\u001b[39margs, \u001b[39m*\u001b[39m\u001b[39m*\u001b[39mkwds)\n\u001b[0;32m    917\u001b[0m new_tracing_count \u001b[39m=\u001b[39m \u001b[39mself\u001b[39m\u001b[39m.\u001b[39mexperimental_get_tracing_count()\n\u001b[0;32m    918\u001b[0m without_tracing \u001b[39m=\u001b[39m (tracing_count \u001b[39m==\u001b[39m new_tracing_count)\n",
      "File \u001b[1;32mc:\\Users\\OLIVERIO\\anaconda3\\lib\\site-packages\\tensorflow\\python\\eager\\def_function.py:947\u001b[0m, in \u001b[0;36mFunction._call\u001b[1;34m(self, *args, **kwds)\u001b[0m\n\u001b[0;32m    944\u001b[0m   \u001b[39mself\u001b[39m\u001b[39m.\u001b[39m_lock\u001b[39m.\u001b[39mrelease()\n\u001b[0;32m    945\u001b[0m   \u001b[39m# In this case we have created variables on the first call, so we run the\u001b[39;00m\n\u001b[0;32m    946\u001b[0m   \u001b[39m# defunned version which is guaranteed to never create variables.\u001b[39;00m\n\u001b[1;32m--> 947\u001b[0m   \u001b[39mreturn\u001b[39;00m \u001b[39mself\u001b[39m\u001b[39m.\u001b[39m_stateless_fn(\u001b[39m*\u001b[39margs, \u001b[39m*\u001b[39m\u001b[39m*\u001b[39mkwds)  \u001b[39m# pylint: disable=not-callable\u001b[39;00m\n\u001b[0;32m    948\u001b[0m \u001b[39melif\u001b[39;00m \u001b[39mself\u001b[39m\u001b[39m.\u001b[39m_stateful_fn \u001b[39mis\u001b[39;00m \u001b[39mnot\u001b[39;00m \u001b[39mNone\u001b[39;00m:\n\u001b[0;32m    949\u001b[0m   \u001b[39m# Release the lock early so that multiple threads can perform the call\u001b[39;00m\n\u001b[0;32m    950\u001b[0m   \u001b[39m# in parallel.\u001b[39;00m\n\u001b[0;32m    951\u001b[0m   \u001b[39mself\u001b[39m\u001b[39m.\u001b[39m_lock\u001b[39m.\u001b[39mrelease()\n",
      "File \u001b[1;32mc:\\Users\\OLIVERIO\\anaconda3\\lib\\site-packages\\tensorflow\\python\\eager\\function.py:2496\u001b[0m, in \u001b[0;36mFunction.__call__\u001b[1;34m(self, *args, **kwargs)\u001b[0m\n\u001b[0;32m   2493\u001b[0m \u001b[39mwith\u001b[39;00m \u001b[39mself\u001b[39m\u001b[39m.\u001b[39m_lock:\n\u001b[0;32m   2494\u001b[0m   (graph_function,\n\u001b[0;32m   2495\u001b[0m    filtered_flat_args) \u001b[39m=\u001b[39m \u001b[39mself\u001b[39m\u001b[39m.\u001b[39m_maybe_define_function(args, kwargs)\n\u001b[1;32m-> 2496\u001b[0m \u001b[39mreturn\u001b[39;00m graph_function\u001b[39m.\u001b[39;49m_call_flat(\n\u001b[0;32m   2497\u001b[0m     filtered_flat_args, captured_inputs\u001b[39m=\u001b[39;49mgraph_function\u001b[39m.\u001b[39;49mcaptured_inputs)\n",
      "File \u001b[1;32mc:\\Users\\OLIVERIO\\anaconda3\\lib\\site-packages\\tensorflow\\python\\eager\\function.py:1862\u001b[0m, in \u001b[0;36mConcreteFunction._call_flat\u001b[1;34m(self, args, captured_inputs, cancellation_manager)\u001b[0m\n\u001b[0;32m   1858\u001b[0m possible_gradient_type \u001b[39m=\u001b[39m gradients_util\u001b[39m.\u001b[39mPossibleTapeGradientTypes(args)\n\u001b[0;32m   1859\u001b[0m \u001b[39mif\u001b[39;00m (possible_gradient_type \u001b[39m==\u001b[39m gradients_util\u001b[39m.\u001b[39mPOSSIBLE_GRADIENT_TYPES_NONE\n\u001b[0;32m   1860\u001b[0m     \u001b[39mand\u001b[39;00m executing_eagerly):\n\u001b[0;32m   1861\u001b[0m   \u001b[39m# No tape is watching; skip to running the function.\u001b[39;00m\n\u001b[1;32m-> 1862\u001b[0m   \u001b[39mreturn\u001b[39;00m \u001b[39mself\u001b[39m\u001b[39m.\u001b[39m_build_call_outputs(\u001b[39mself\u001b[39;49m\u001b[39m.\u001b[39;49m_inference_function\u001b[39m.\u001b[39;49mcall(\n\u001b[0;32m   1863\u001b[0m       ctx, args, cancellation_manager\u001b[39m=\u001b[39;49mcancellation_manager))\n\u001b[0;32m   1864\u001b[0m forward_backward \u001b[39m=\u001b[39m \u001b[39mself\u001b[39m\u001b[39m.\u001b[39m_select_forward_and_backward_functions(\n\u001b[0;32m   1865\u001b[0m     args,\n\u001b[0;32m   1866\u001b[0m     possible_gradient_type,\n\u001b[0;32m   1867\u001b[0m     executing_eagerly)\n\u001b[0;32m   1868\u001b[0m forward_function, args_with_tangents \u001b[39m=\u001b[39m forward_backward\u001b[39m.\u001b[39mforward()\n",
      "File \u001b[1;32mc:\\Users\\OLIVERIO\\anaconda3\\lib\\site-packages\\tensorflow\\python\\eager\\function.py:499\u001b[0m, in \u001b[0;36m_EagerDefinedFunction.call\u001b[1;34m(self, ctx, args, cancellation_manager)\u001b[0m\n\u001b[0;32m    497\u001b[0m \u001b[39mwith\u001b[39;00m _InterpolateFunctionError(\u001b[39mself\u001b[39m):\n\u001b[0;32m    498\u001b[0m   \u001b[39mif\u001b[39;00m cancellation_manager \u001b[39mis\u001b[39;00m \u001b[39mNone\u001b[39;00m:\n\u001b[1;32m--> 499\u001b[0m     outputs \u001b[39m=\u001b[39m execute\u001b[39m.\u001b[39;49mexecute(\n\u001b[0;32m    500\u001b[0m         \u001b[39mstr\u001b[39;49m(\u001b[39mself\u001b[39;49m\u001b[39m.\u001b[39;49msignature\u001b[39m.\u001b[39;49mname),\n\u001b[0;32m    501\u001b[0m         num_outputs\u001b[39m=\u001b[39;49m\u001b[39mself\u001b[39;49m\u001b[39m.\u001b[39;49m_num_outputs,\n\u001b[0;32m    502\u001b[0m         inputs\u001b[39m=\u001b[39;49margs,\n\u001b[0;32m    503\u001b[0m         attrs\u001b[39m=\u001b[39;49mattrs,\n\u001b[0;32m    504\u001b[0m         ctx\u001b[39m=\u001b[39;49mctx)\n\u001b[0;32m    505\u001b[0m   \u001b[39melse\u001b[39;00m:\n\u001b[0;32m    506\u001b[0m     outputs \u001b[39m=\u001b[39m execute\u001b[39m.\u001b[39mexecute_with_cancellation(\n\u001b[0;32m    507\u001b[0m         \u001b[39mstr\u001b[39m(\u001b[39mself\u001b[39m\u001b[39m.\u001b[39msignature\u001b[39m.\u001b[39mname),\n\u001b[0;32m    508\u001b[0m         num_outputs\u001b[39m=\u001b[39m\u001b[39mself\u001b[39m\u001b[39m.\u001b[39m_num_outputs,\n\u001b[1;32m   (...)\u001b[0m\n\u001b[0;32m    511\u001b[0m         ctx\u001b[39m=\u001b[39mctx,\n\u001b[0;32m    512\u001b[0m         cancellation_manager\u001b[39m=\u001b[39mcancellation_manager)\n",
      "File \u001b[1;32mc:\\Users\\OLIVERIO\\anaconda3\\lib\\site-packages\\tensorflow\\python\\eager\\execute.py:54\u001b[0m, in \u001b[0;36mquick_execute\u001b[1;34m(op_name, num_outputs, inputs, attrs, ctx, name)\u001b[0m\n\u001b[0;32m     52\u001b[0m \u001b[39mtry\u001b[39;00m:\n\u001b[0;32m     53\u001b[0m   ctx\u001b[39m.\u001b[39mensure_initialized()\n\u001b[1;32m---> 54\u001b[0m   tensors \u001b[39m=\u001b[39m pywrap_tfe\u001b[39m.\u001b[39;49mTFE_Py_Execute(ctx\u001b[39m.\u001b[39;49m_handle, device_name, op_name,\n\u001b[0;32m     55\u001b[0m                                       inputs, attrs, num_outputs)\n\u001b[0;32m     56\u001b[0m \u001b[39mexcept\u001b[39;00m core\u001b[39m.\u001b[39m_NotOkStatusException \u001b[39mas\u001b[39;00m e:\n\u001b[0;32m     57\u001b[0m   \u001b[39mif\u001b[39;00m name \u001b[39mis\u001b[39;00m \u001b[39mnot\u001b[39;00m \u001b[39mNone\u001b[39;00m:\n",
      "\u001b[1;31mKeyboardInterrupt\u001b[0m: "
     ]
    }
   ],
   "source": [
    "history4 = model.fit(aug_ds, validation_data=val_ds, epochs=8, class_weight=cl_weight, callbacks=[lr_scheduler])"
   ]
  },
  {
   "cell_type": "code",
   "execution_count": null,
   "metadata": {},
   "outputs": [
    {
     "data": {
      "text/html": [
       "<div>\n",
       "<style scoped>\n",
       "    .dataframe tbody tr th:only-of-type {\n",
       "        vertical-align: middle;\n",
       "    }\n",
       "\n",
       "    .dataframe tbody tr th {\n",
       "        vertical-align: top;\n",
       "    }\n",
       "\n",
       "    .dataframe thead th {\n",
       "        text-align: right;\n",
       "    }\n",
       "</style>\n",
       "<table border=\"1\" class=\"dataframe\">\n",
       "  <thead>\n",
       "    <tr style=\"text-align: right;\">\n",
       "      <th></th>\n",
       "      <th>loss</th>\n",
       "      <th>output_loss</th>\n",
       "      <th>aux_output_loss</th>\n",
       "      <th>output_accuracy</th>\n",
       "      <th>aux_output_accuracy</th>\n",
       "      <th>val_loss</th>\n",
       "      <th>val_output_loss</th>\n",
       "      <th>val_aux_output_loss</th>\n",
       "      <th>val_output_accuracy</th>\n",
       "      <th>val_aux_output_accuracy</th>\n",
       "      <th>lr</th>\n",
       "    </tr>\n",
       "  </thead>\n",
       "  <tbody>\n",
       "    <tr>\n",
       "      <th>0</th>\n",
       "      <td>2.063800</td>\n",
       "      <td>2.013666</td>\n",
       "      <td>2.347891</td>\n",
       "      <td>0.329389</td>\n",
       "      <td>0.296702</td>\n",
       "      <td>2.015761</td>\n",
       "      <td>2.054921</td>\n",
       "      <td>1.793857</td>\n",
       "      <td>0.147621</td>\n",
       "      <td>0.305469</td>\n",
       "      <td>0.001</td>\n",
       "    </tr>\n",
       "    <tr>\n",
       "      <th>1</th>\n",
       "      <td>2.008118</td>\n",
       "      <td>1.969917</td>\n",
       "      <td>2.224591</td>\n",
       "      <td>0.341961</td>\n",
       "      <td>0.323029</td>\n",
       "      <td>1.941378</td>\n",
       "      <td>1.926498</td>\n",
       "      <td>2.025700</td>\n",
       "      <td>0.215207</td>\n",
       "      <td>0.158293</td>\n",
       "      <td>0.001</td>\n",
       "    </tr>\n",
       "    <tr>\n",
       "      <th>2</th>\n",
       "      <td>1.947276</td>\n",
       "      <td>1.919954</td>\n",
       "      <td>2.102097</td>\n",
       "      <td>0.334418</td>\n",
       "      <td>0.321254</td>\n",
       "      <td>1.608758</td>\n",
       "      <td>1.651806</td>\n",
       "      <td>1.364819</td>\n",
       "      <td>0.364606</td>\n",
       "      <td>0.523344</td>\n",
       "      <td>0.001</td>\n",
       "    </tr>\n",
       "    <tr>\n",
       "      <th>3</th>\n",
       "      <td>1.884935</td>\n",
       "      <td>1.857890</td>\n",
       "      <td>2.038188</td>\n",
       "      <td>0.315338</td>\n",
       "      <td>0.311492</td>\n",
       "      <td>1.868521</td>\n",
       "      <td>1.866071</td>\n",
       "      <td>1.882403</td>\n",
       "      <td>0.305024</td>\n",
       "      <td>0.200534</td>\n",
       "      <td>0.001</td>\n",
       "    </tr>\n",
       "    <tr>\n",
       "      <th>4</th>\n",
       "      <td>1.849411</td>\n",
       "      <td>1.826946</td>\n",
       "      <td>1.976704</td>\n",
       "      <td>0.348173</td>\n",
       "      <td>0.328058</td>\n",
       "      <td>1.735968</td>\n",
       "      <td>1.757071</td>\n",
       "      <td>1.616382</td>\n",
       "      <td>0.114273</td>\n",
       "      <td>0.600711</td>\n",
       "      <td>0.001</td>\n",
       "    </tr>\n",
       "  </tbody>\n",
       "</table>\n",
       "</div>"
      ],
      "text/plain": [
       "       loss  output_loss  aux_output_loss  output_accuracy  \\\n",
       "0  2.063800     2.013666         2.347891         0.329389   \n",
       "1  2.008118     1.969917         2.224591         0.341961   \n",
       "2  1.947276     1.919954         2.102097         0.334418   \n",
       "3  1.884935     1.857890         2.038188         0.315338   \n",
       "4  1.849411     1.826946         1.976704         0.348173   \n",
       "\n",
       "   aux_output_accuracy  val_loss  val_output_loss  val_aux_output_loss  \\\n",
       "0             0.296702  2.015761         2.054921             1.793857   \n",
       "1             0.323029  1.941378         1.926498             2.025700   \n",
       "2             0.321254  1.608758         1.651806             1.364819   \n",
       "3             0.311492  1.868521         1.866071             1.882403   \n",
       "4             0.328058  1.735968         1.757071             1.616382   \n",
       "\n",
       "   val_output_accuracy  val_aux_output_accuracy     lr  \n",
       "0             0.147621                 0.305469  0.001  \n",
       "1             0.215207                 0.158293  0.001  \n",
       "2             0.364606                 0.523344  0.001  \n",
       "3             0.305024                 0.200534  0.001  \n",
       "4             0.114273                 0.600711  0.001  "
      ]
     },
     "execution_count": 25,
     "metadata": {},
     "output_type": "execute_result"
    }
   ],
   "source": [
    "pd.DataFrame(history.history).head()"
   ]
  },
  {
   "cell_type": "code",
   "execution_count": 40,
   "metadata": {},
   "outputs": [
    {
     "data": {
      "image/png": "[encoded data removed]",
      "text/plain": [
       "<Figure size 1008x288 with 2 Axes>"
      ]
     },
     "metadata": {
      "needs_background": "light"
     },
     "output_type": "display_data"
    }
   ],
   "source": [
    "\n",
    "\n",
    "fig, axes = plt.subplots(nrows=1, ncols=2)\n",
    "fig.set_size_inches(14, 4)\n",
    "pd.DataFrame(history.history)[['loss', 'val_loss']].plot(ax=axes[0])\n",
    "axes[0].set_title(\"Learning Curve\")\n",
    "axes[0].set_xlabel(\"Epoch\")\n",
    "axes[0].grid(True)\n",
    "axes[0].set_ylim([0,3])\n",
    "\n",
    "pd.DataFrame(history.history)[['accuracy', 'val_accuracy']].plot(ax=axes[1])\n",
    "axes[1].set_title(\"Accuracy\")\n",
    "axes[1].set_xlabel(\"Epoch\")\n",
    "axes[1].grid(True)\n",
    "axes[1].set_ylim([0, 1])\n",
    "\n",
    "plt.show()"
   ]
  },
  {
   "cell_type": "code",
   "execution_count": null,
   "metadata": {},
   "outputs": [
    {
     "data": {
      "text/plain": [
       "(0.0, 1.0)"
      ]
     },
     "execution_count": 33,
     "metadata": {},
     "output_type": "execute_result"
    },
    {
     "data": {
      "image/png": "[encoded data removed]",
      "text/plain": [
       "<Figure size 1008x288 with 2 Axes>"
      ]
     },
     "metadata": {
      "needs_background": "light"
     },
     "output_type": "display_data"
    }
   ],
   "source": [
    "h1 = pd.DataFrame(history.history)\n",
    "h2 = pd.DataFrame(history2.history, index=[x for x in range(10, 20)])\n",
    "h3 = pd.DataFrame(history3.history, index=[20,21])\n",
    "\n",
    "fig, axes = plt.subplots(nrows=1, ncols=2)\n",
    "fig.set_size_inches(14, 4)\n",
    "pd.concat([h1,h2,h3])[[\"loss\", 'val_loss']].plot(ax=axes[0])\n",
    "axes[0].set_title(\"Learning Curve\")\n",
    "axes[0].set_xlabel(\"Epoch\")\n",
    "axes[0].grid(True)\n",
    "axes[0].set_ylim([0,3])\n",
    "\n",
    "pd.concat([h1,h2,h3])[['output_accuracy', 'val_output_accuracy']].plot(ax=axes[1])\n",
    "axes[1].set_title(\"Accuracy\")\n",
    "axes[1].set_xlabel(\"Epoch\")\n",
    "axes[1].grid(True)\n",
    "axes[1].set_ylim([0, 1])"
   ]
  },
  {
   "cell_type": "code",
   "execution_count": null,
   "metadata": {},
   "outputs": [
    {
     "data": {
      "text/plain": [
       "(0.0, 1.0)"
      ]
     },
     "execution_count": 77,
     "metadata": {},
     "output_type": "execute_result"
    },
    {
     "data": {
      "image/png": "[encoded data removed]",
      "text/plain": [
       "<Figure size 1008x288 with 2 Axes>"
      ]
     },
     "metadata": {
      "needs_background": "light"
     },
     "output_type": "display_data"
    }
   ],
   "source": [
    "h1 = pd.DataFrame(history.history)\n",
    "h2 = pd.DataFrame(history2.history, index=[20, 21])\n",
    "h3 = pd.DataFrame(history3.history, index=[22, 23])\n",
    "h4 = pd.DataFrame(history4.history, index=[24, 25,26,27,28,29])\n",
    "\n",
    "fig, axes = plt.subplots(nrows=1, ncols=2)\n",
    "fig.set_size_inches(14, 4)\n",
    "pd.concat([h1,h2,h3, h4])[[\"loss\", 'val_loss']].plot(ax=axes[0])\n",
    "axes[0].set_title(\"Learning Curve\")\n",
    "axes[0].set_xlabel(\"Epoch\")\n",
    "axes[0].grid(True)\n",
    "axes[0].set_ylim([0,3])\n",
    "\n",
    "pd.concat([h1,h2,h3, h4])[[\"accuracy\", 'val_accuracy']].plot(ax=axes[1])\n",
    "axes[1].set_title(\"Accuracy\")\n",
    "axes[1].set_xlabel(\"Epoch\")\n",
    "axes[1].grid(True)\n",
    "axes[1].set_ylim([0, 1])"
   ]
  },
  {
   "cell_type": "code",
   "execution_count": null,
   "metadata": {},
   "outputs": [
    {
     "data": {
      "text/html": [
       "<div>\n",
       "<style scoped>\n",
       "    .dataframe tbody tr th:only-of-type {\n",
       "        vertical-align: middle;\n",
       "    }\n",
       "\n",
       "    .dataframe tbody tr th {\n",
       "        vertical-align: top;\n",
       "    }\n",
       "\n",
       "    .dataframe thead th {\n",
       "        text-align: right;\n",
       "    }\n",
       "</style>\n",
       "<table border=\"1\" class=\"dataframe\">\n",
       "  <thead>\n",
       "    <tr style=\"text-align: right;\">\n",
       "      <th></th>\n",
       "      <th>loss</th>\n",
       "      <th>accuracy</th>\n",
       "      <th>val_loss</th>\n",
       "      <th>val_accuracy</th>\n",
       "    </tr>\n",
       "  </thead>\n",
       "  <tbody>\n",
       "    <tr>\n",
       "      <th>19</th>\n",
       "      <td>0.256554</td>\n",
       "      <td>0.797811</td>\n",
       "      <td>1.388403</td>\n",
       "      <td>0.530458</td>\n",
       "    </tr>\n",
       "    <tr>\n",
       "      <th>20</th>\n",
       "      <td>0.209908</td>\n",
       "      <td>0.820293</td>\n",
       "      <td>1.329341</td>\n",
       "      <td>0.560694</td>\n",
       "    </tr>\n",
       "    <tr>\n",
       "      <th>21</th>\n",
       "      <td>0.441261</td>\n",
       "      <td>0.760243</td>\n",
       "      <td>1.531931</td>\n",
       "      <td>0.541574</td>\n",
       "    </tr>\n",
       "    <tr>\n",
       "      <th>22</th>\n",
       "      <td>0.256901</td>\n",
       "      <td>0.807425</td>\n",
       "      <td>1.340227</td>\n",
       "      <td>0.600267</td>\n",
       "    </tr>\n",
       "    <tr>\n",
       "      <th>23</th>\n",
       "      <td>0.145071</td>\n",
       "      <td>0.861115</td>\n",
       "      <td>1.320583</td>\n",
       "      <td>0.595376</td>\n",
       "    </tr>\n",
       "  </tbody>\n",
       "</table>\n",
       "</div>"
      ],
      "text/plain": [
       "        loss  accuracy  val_loss  val_accuracy\n",
       "19  0.256554  0.797811  1.388403      0.530458\n",
       "20  0.209908  0.820293  1.329341      0.560694\n",
       "21  0.441261  0.760243  1.531931      0.541574\n",
       "22  0.256901  0.807425  1.340227      0.600267\n",
       "23  0.145071  0.861115  1.320583      0.595376"
      ]
     },
     "execution_count": 41,
     "metadata": {},
     "output_type": "execute_result"
    }
   ],
   "source": [
    "pd.concat([h1,h2,h3]).tail()"
   ]
  },
  {
   "cell_type": "code",
   "execution_count": 39,
   "metadata": {},
   "outputs": [],
   "source": [
    "model.save(\"skin_cancer_invbneckres_V2_oloss.h5\")"
   ]
  },
  {
   "cell_type": "code",
   "execution_count": 31,
   "metadata": {},
   "outputs": [
    {
     "name": "stdout",
     "output_type": "stream",
     "text": [
      "Found 1005 files belonging to 7 classes.\n"
     ]
    }
   ],
   "source": [
    "test_ds = image_dataset_from_directory(\n",
    "    TEST_PATH,\n",
    "    label_mode='categorical',\n",
    "    batch_size=25,\n",
    "    image_size=(224,224),\n",
    "    shuffle=False\n",
    ")"
   ]
  },
  {
   "cell_type": "code",
   "execution_count": 32,
   "metadata": {},
   "outputs": [
    {
     "name": "stdout",
     "output_type": "stream",
     "text": [
      "41/41 [==============================] - 17s 378ms/step\n"
     ]
    },
    {
     "data": {
      "text/plain": [
       "array([[0.12714906, 0.15202476, 0.19610554, ..., 0.31304407, 0.12395776,\n",
       "        0.03819217],\n",
       "       [0.14407364, 0.15401831, 0.11805757, ..., 0.15961245, 0.13044348,\n",
       "        0.1325588 ],\n",
       "       [0.11653626, 0.41474602, 0.07209107, ..., 0.14626569, 0.1969184 ,\n",
       "        0.02455945],\n",
       "       ...,\n",
       "       [0.10038791, 0.15664771, 0.18614158, ..., 0.2692056 , 0.1444072 ,\n",
       "        0.06487006],\n",
       "       [0.0310589 , 0.08431543, 0.27656174, ..., 0.227659  , 0.2715016 ,\n",
       "        0.03736356],\n",
       "       [0.19505902, 0.19282949, 0.13219115, ..., 0.13305444, 0.04636529,\n",
       "        0.14887594]], dtype=float32)"
      ]
     },
     "execution_count": 32,
     "metadata": {},
     "output_type": "execute_result"
    }
   ],
   "source": [
    "pred = model.predict(test_ds)\n",
    "pred"
   ]
  },
  {
   "cell_type": "code",
   "execution_count": 33,
   "metadata": {},
   "outputs": [],
   "source": [
    "#pred = pred[1]"
   ]
  },
  {
   "cell_type": "code",
   "execution_count": 34,
   "metadata": {},
   "outputs": [],
   "source": [
    "y_true = []\n",
    "for X, y in test_ds:\n",
    "    for d in y:\n",
    "        y_true.append(d.numpy())\n",
    "y_true = np.array(y_true)"
   ]
  },
  {
   "cell_type": "code",
   "execution_count": 35,
   "metadata": {},
   "outputs": [],
   "source": [
    "y_true_a = np.argmax(y_true, axis=1)\n",
    "y_pred_a = np.argmax(pred, axis=1)"
   ]
  },
  {
   "cell_type": "code",
   "execution_count": 36,
   "metadata": {},
   "outputs": [
    {
     "data": {
      "text/plain": [
       "array([4, 3, 1, ..., 4, 2, 0], dtype=int64)"
      ]
     },
     "execution_count": 36,
     "metadata": {},
     "output_type": "execute_result"
    }
   ],
   "source": [
    "y_pred_a"
   ]
  },
  {
   "cell_type": "code",
   "execution_count": 37,
   "metadata": {},
   "outputs": [
    {
     "data": {
      "text/plain": [
       "[]"
      ]
     },
     "execution_count": 37,
     "metadata": {},
     "output_type": "execute_result"
    },
    {
     "data": {
      "image/png": "[encoded data removed]",
      "text/plain": [
       "<Figure size 792x324 with 4 Axes>"
      ]
     },
     "metadata": {
      "needs_background": "light"
     },
     "output_type": "display_data"
    }
   ],
   "source": [
    "from sklearn.metrics import confusion_matrix, ConfusionMatrixDisplay\n",
    "\n",
    "cf = confusion_matrix(y_true_a, y_pred_a)\n",
    "ideal = confusion_matrix(y_true_a, y_true_a)\n",
    "\n",
    "fig, axes = plt.subplots(nrows=1, ncols=2)\n",
    "fig.set_size_inches(11, 4.5)\n",
    "ConfusionMatrixDisplay(ideal, display_labels=train_ds.class_names).plot(cmap=\"YlGnBu\", ax=axes[0])\n",
    "axes[0].set_title(\"Ideal\")\n",
    "ConfusionMatrixDisplay(cf, display_labels=train_ds.class_names).plot(cmap=\"YlGnBu\", ax=axes[1])\n",
    "axes[1].set_title(\"Real\")\n",
    "plt.plot()"
   ]
  },
  {
   "cell_type": "code",
   "execution_count": 38,
   "metadata": {},
   "outputs": [
    {
     "name": "stdout",
     "output_type": "stream",
     "text": [
      "0.46766169154228854\n"
     ]
    },
    {
     "data": {
      "text/plain": [
       "0.5241459545758865"
      ]
     },
     "execution_count": 38,
     "metadata": {},
     "output_type": "execute_result"
    }
   ],
   "source": [
    "from sklearn.metrics import f1_score, accuracy_score\n",
    "\n",
    "print(accuracy_score(y_true_a, y_pred_a))\n",
    "f1_score(y_true_a, y_pred_a, average=\"weighted\")"
   ]
  },
  {
   "cell_type": "code",
   "execution_count": null,
   "metadata": {},
   "outputs": [],
   "source": []
  }
 ],
 "metadata": {
  "kernelspec": {
   "display_name": "Python 3.9.12 ('base')",
   "language": "python",
   "name": "python3"
  },
  "language_info": {
   "codemirror_mode": {
    "name": "ipython",
    "version": 3
   },
   "file_extension": ".py",
   "mimetype": "text/x-python",
   "name": "python",
   "nbconvert_exporter": "python",
   "pygments_lexer": "ipython3",
   "version": "3.9.12"
  },
  "orig_nbformat": 4,
  "vscode": {
   "interpreter": {
    "hash": "20f3cd987520760b698f7ee4a60b42309b644187bf48f6397441d88219955ba7"
   }
  }
 },
 "nbformat": 4,
 "nbformat_minor": 2
}
